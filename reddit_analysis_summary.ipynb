{
 "cells": [
  {
   "cell_type": "markdown",
   "metadata": {},
   "source": [
    "This notebook summarizes the major steps implemented in this project.  For a more detailed look please view the other notebooks in this repository.  \n",
    "\n",
    "I have two goals in this project.  The first was to use NLP to predict a good or bad comment on reddit. The second goal is to see whether I can use Latent Dirichlet Allocation topic modelling to create features that will enhance an NLP model.\n",
    "\n",
    "Reddit user u'Stuck in the matrix has archived every reddit comment beginning in 2015 and made them publicly available.  Alternatively, one could use the reddit API and collect data but there are limitations on how much you can collect at a time.  There is even a python specific wrapper created for the reddit API.  PRAW is a well known tool used to access reddit.\n",
    "\n",
    "I downloaded one full month of reddit data (5/2017) from https://files.pushshift.io/reddit/. One month of reddit comments should provide sufficient data for this project. \n"
   ]
  },
  {
   "cell_type": "markdown",
   "metadata": {},
   "source": [
    "I want to open one record and load it just to see what the JSON and loaded version looks like"
   ]
  },
  {
   "cell_type": "markdown",
   "metadata": {},
   "source": [
    "How many total records are in the file we downloaded?"
   ]
  },
  {
   "cell_type": "code",
   "execution_count": 6,
   "metadata": {
    "collapsed": false
   },
   "outputs": [
    {
     "name": "stdout",
     "output_type": "stream",
     "text": [
      "79810359\n"
     ]
    }
   ],
   "source": [
    "#total records in 5/2017 comment file\n",
    "archive = '/home/augustine/Documents/reddit_project/RC_2017-05.bz2'\n",
    "with bz2.open(archive,'rt') as f:\n",
    "    for count, record in enumerate(f):\n",
    "        pass\n",
    "    print(count)"
   ]
  },
  {
   "cell_type": "markdown",
   "metadata": {},
   "source": [
    "79.8M comments! That seems like a good amount of data to work with.\n",
    "\n",
    "Let's take a look at some of the subreddits and their number of comments.\n"
   ]
  },
  {
   "cell_type": "markdown",
   "metadata": {},
   "source": [
    "This month the most active subreddits were AskReddit with 5 million comments and politics with 2 million comments."
   ]
  },
  {
   "cell_type": "markdown",
   "metadata": {},
   "source": [
    "Now I'm hoping this is working. Let's see if we can specify a subreddit and look at one record. "
   ]
  },
  {
   "cell_type": "markdown",
   "metadata": {},
   "source": [
    "The comments in the file are stored in JSON format.  To process the file, I will use a 2d array. First I initialize an empty list, open the file and initialize another empty list.  As I read each line, if the comment is from the soccer subreddit (or subreddit of your choice) then unpack the JSON string into a list. These lists are appended to each other as well as the first list.  loop through each  I am going to loop through and\n",
    "To arrange the data in the format I want, I created empty arrays for each field in the JSON file and then loaded the file into a 2D-Array.\n",
    "\n",
    "I ran for one subreddit (I picked soccer because I enjoy soccer) but we can load all of the subreddits into a list\n",
    "and then loop through the list to load all subreddits into a dataframe."
   ]
  },
  {
   "cell_type": "code",
   "execution_count": 21,
   "metadata": {
    "collapsed": false
   },
   "outputs": [],
   "source": [
    "#step 1\n",
    "pd.set_option('display.max_columns',None)#b/c i want to see all columns\n",
    "import pandas as pd\n",
    "import json\n",
    "import bz2 \n",
    "\n",
    "#archive = '/home/augustine/Documents/reddit_project/RC_2017-05.bz2'\n",
    "archive= 'C:\\\\users\\Augustine\\Documents\\\\reddit\\RC_2017-05.bz2'\n",
    "line_all= []\n",
    "with bz2.open(archive,'rt') as f:\n",
    "    my_row= []\n",
    "    for comment in f:\n",
    "        if json.loads(comment)['subreddit']=='soccer':\n",
    "            comment= json.loads(comment) \n",
    "            my_row.append(comment)\n",
    "    line_all.append(my_row)\n"
   ]
  },
  {
   "cell_type": "markdown",
   "metadata": {},
   "source": [
    "Now I'm going to create lists for each field in the JSON string.  In the next step I will create a dataframe from the lists."
   ]
  },
  {
   "cell_type": "code",
   "execution_count": 24,
   "metadata": {
    "collapsed": false
   },
   "outputs": [],
   "source": [
    "#step 2\n",
    "author=[]\n",
    "author_flair_css_class= []\n",
    "author_flair_text= []\n",
    "body= []\n",
    "can_gild= []\n",
    "controversiality= []\n",
    "created_utc= []\n",
    "distinguished= []\n",
    "edited= []\n",
    "gilded= []\n",
    "id= []\n",
    "link_id= []\n",
    "parent_id= []\n",
    "retrieved_on= []\n",
    "score= []\n",
    "stickied= []\n",
    "subreddit= []\n",
    "subreddit_id= []\n",
    "\n",
    "\n",
    "for i in range(0, len(line_all[0])):\n",
    "    author.append(line_all[0][i]['author'])\n",
    "    author_flair_css_class.append(line_all[0][i]['author_flair_css_class'])\n",
    "    author_flair_text.append(line_all[0][i]['author_flair_text'])\n",
    "    body.append(line_all[0][i]['body'])\n",
    "    can_gild.append(line_all[0][i]['can_gild'])\n",
    "    controversiality.append(line_all[0][i]['controversiality'])\n",
    "    created_utc.append(line_all[0][i]['created_utc'])\n",
    "    distinguished.append(line_all[0][i]['distinguished'])\n",
    "    edited.append(line_all[0][i]['edited'])\n",
    "    gilded.append(line_all[0][i]['gilded'])\n",
    "    id.append(line_all[0][i]['id'])\n",
    "    link_id.append(line_all[0][i]['link_id'])\n",
    "    parent_id.append(line_all[0][i]['parent_id'])\n",
    "    retrieved_on.append(line_all[0][i]['retrieved_on'])\n",
    "    score.append(line_all[0][i]['score'])\n",
    "    stickied.append(line_all[0][i]['stickied'])\n",
    "    subreddit.append(line_all[0][i]['subreddit'])\n",
    "    subreddit_id.append(line_all[0][i]['subreddit_id'])\n",
    "\n",
    "    "
   ]
  },
  {
   "cell_type": "markdown",
   "metadata": {},
   "source": [
    "I want to check the lenght of my subreddit list"
   ]
  },
  {
   "cell_type": "code",
   "execution_count": 25,
   "metadata": {
    "collapsed": false
   },
   "outputs": [
    {
     "data": {
      "text/plain": [
       "572163"
      ]
     },
     "execution_count": 25,
     "metadata": {},
     "output_type": "execute_result"
    }
   ],
   "source": [
    "#step 3 check the length matches earlier\n",
    "#line_all[1][]['line']['body']\n",
    "len(line_all[0])"
   ]
  },
  {
   "cell_type": "markdown",
   "metadata": {},
   "source": [
    "Finally, load the lists as a dataframe. This is really only possible since I already know the fields in the file."
   ]
  },
  {
   "cell_type": "code",
   "execution_count": 69,
   "metadata": {
    "collapsed": false
   },
   "outputs": [],
   "source": [
    "#step 4\n",
    "import numpy as np\n",
    "from pandas import Series, DataFrame\n",
    "import pandas as pd\n",
    "\n",
    "subr_df= DataFrame({'author':author,\n",
    "                   'author_flair_css_class':author_flair_css_class,\n",
    "                   'author_flair_text':author_flair_text,\n",
    "                   'body':body,\n",
    "                   'can_gild':can_gild,\n",
    "                   'controversiality':controversiality,\n",
    "                   'created_utc':created_utc,\n",
    "                   'distinguished':distinguished,\n",
    "                   'edited':edited,\n",
    "                   'gilded':gilded,\n",
    "                   'id':id,\n",
    "                   'link_id':link_id,\n",
    "                   'parent_id':parent_id,\n",
    "                   'retrieved_on':retrieved_on,\n",
    "                   'score':score,\n",
    "                   'stickied':stickied,\n",
    "                   'subreddit':subreddit,\n",
    "                   'subreddit_id':subreddit_id})\n",
    "\n",
    "subr_df= subr_df[['author', 'author_flair_css_class','author_flair_text','body','can_gild','controversiality',\n",
    "                   'created_utc','distinguished','edited','gilded','id','link_id','parent_id','retrieved_on',\n",
    "                   'score','stickied','subreddit','subreddit_id']]"
   ]
  },
  {
   "cell_type": "code",
   "execution_count": 48,
   "metadata": {
    "collapsed": false
   },
   "outputs": [
    {
     "data": {
      "text/plain": [
       "count        572163\n",
       "unique       519994\n",
       "top       [deleted]\n",
       "freq          31760\n",
       "Name: body, dtype: object"
      ]
     },
     "execution_count": 48,
     "metadata": {},
     "output_type": "execute_result"
    }
   ],
   "source": [
    "subr_df['body'].describe()"
   ]
  },
  {
   "cell_type": "code",
   "execution_count": 46,
   "metadata": {
    "collapsed": false
   },
   "outputs": [
    {
     "data": {
      "text/plain": [
       "count        572163\n",
       "unique        44846\n",
       "top       [deleted]\n",
       "freq          37745\n",
       "Name: author, dtype: object"
      ]
     },
     "execution_count": 46,
     "metadata": {},
     "output_type": "execute_result"
    }
   ],
   "source": [
    "subr_df['author'].describe()"
   ]
  },
  {
   "cell_type": "code",
   "execution_count": 47,
   "metadata": {
    "collapsed": false
   },
   "outputs": [
    {
     "data": {
      "text/plain": [
       "count    572163.000000\n",
       "mean         13.210465\n",
       "std          69.942649\n",
       "min        -610.000000\n",
       "25%           1.000000\n",
       "50%           2.000000\n",
       "75%           8.000000\n",
       "max       10818.000000\n",
       "Name: score, dtype: float64"
      ]
     },
     "execution_count": 47,
     "metadata": {},
     "output_type": "execute_result"
    }
   ],
   "source": [
    "subr_df['score'].describe()"
   ]
  },
  {
   "cell_type": "code",
   "execution_count": 31,
   "metadata": {
    "collapsed": false
   },
   "outputs": [
    {
     "data": {
      "text/plain": [
       "572163"
      ]
     },
     "execution_count": 31,
     "metadata": {},
     "output_type": "execute_result"
    }
   ],
   "source": [
    "subr_df['author'].notnull().sum()"
   ]
  },
  {
   "cell_type": "markdown",
   "metadata": {},
   "source": [
    "The reddit data uses a created_utc timestamp for each comments. One thing I'll do for easier processing and a more intuitve view is convert the field created_utc to a python datetime datatype."
   ]
  },
  {
   "cell_type": "code",
   "execution_count": 99,
   "metadata": {
    "collapsed": false
   },
   "outputs": [],
   "source": [
    "from datetime import datetime\n",
    "subr_df['created_datetime'] = subr_df.created_utc.apply(datetime.utcfromtimestamp)\n",
    "subr_df['created_year'] = subr_df.created_datetime.dt.year\n",
    "subr_df['created_month'] = subr_df.created_datetime.dt.month\n",
    "subr_df['created_day'] = subr_df.created_datetime.dt.day\n",
    "subr_df['created_hour'] = subr_df.created_datetime.dt.hour\n"
   ]
  },
  {
   "cell_type": "code",
   "execution_count": 100,
   "metadata": {
    "collapsed": false,
    "scrolled": true
   },
   "outputs": [
    {
     "data": {
      "text/html": [
       "<div>\n",
       "<table border=\"1\" class=\"dataframe\">\n",
       "  <thead>\n",
       "    <tr style=\"text-align: right;\">\n",
       "      <th></th>\n",
       "      <th>author</th>\n",
       "      <th>author_flair_css_class</th>\n",
       "      <th>author_flair_text</th>\n",
       "      <th>body</th>\n",
       "      <th>can_gild</th>\n",
       "      <th>controversiality</th>\n",
       "      <th>created_utc</th>\n",
       "      <th>distinguished</th>\n",
       "      <th>edited</th>\n",
       "      <th>gilded</th>\n",
       "      <th>...</th>\n",
       "      <th>score</th>\n",
       "      <th>stickied</th>\n",
       "      <th>subreddit</th>\n",
       "      <th>subreddit_id</th>\n",
       "      <th>created_datetime</th>\n",
       "      <th>hour</th>\n",
       "      <th>created_hour</th>\n",
       "      <th>created_day</th>\n",
       "      <th>created_year</th>\n",
       "      <th>created_month</th>\n",
       "    </tr>\n",
       "  </thead>\n",
       "  <tbody>\n",
       "    <tr>\n",
       "      <th>0</th>\n",
       "      <td>iEatPorcupines</td>\n",
       "      <td>None</td>\n",
       "      <td>None</td>\n",
       "      <td>After seeing [this,](https://my.mixtape.moe/ro...</td>\n",
       "      <td>True</td>\n",
       "      <td>0</td>\n",
       "      <td>1493596800</td>\n",
       "      <td>None</td>\n",
       "      <td>False</td>\n",
       "      <td>0</td>\n",
       "      <td>...</td>\n",
       "      <td>2</td>\n",
       "      <td>False</td>\n",
       "      <td>soccer</td>\n",
       "      <td>t5_2qi58</td>\n",
       "      <td>2017-05-01 00:00:00</td>\n",
       "      <td>0</td>\n",
       "      <td>0</td>\n",
       "      <td>1</td>\n",
       "      <td>2017</td>\n",
       "      <td>5</td>\n",
       "    </tr>\n",
       "    <tr>\n",
       "      <th>1</th>\n",
       "      <td>Thesolly180</td>\n",
       "      <td>s1 3 team-3 country-eng</td>\n",
       "      <td>Liverpool</td>\n",
       "      <td>Didn't say I'd never heard of it, where did I ...</td>\n",
       "      <td>True</td>\n",
       "      <td>0</td>\n",
       "      <td>1493596818</td>\n",
       "      <td>None</td>\n",
       "      <td>False</td>\n",
       "      <td>0</td>\n",
       "      <td>...</td>\n",
       "      <td>0</td>\n",
       "      <td>False</td>\n",
       "      <td>soccer</td>\n",
       "      <td>t5_2qi58</td>\n",
       "      <td>2017-05-01 00:00:18</td>\n",
       "      <td>0</td>\n",
       "      <td>0</td>\n",
       "      <td>1</td>\n",
       "      <td>2017</td>\n",
       "      <td>5</td>\n",
       "    </tr>\n",
       "    <tr>\n",
       "      <th>2</th>\n",
       "      <td>ntdxc1878</td>\n",
       "      <td>s1 15 team-15 country-eng</td>\n",
       "      <td>Everton</td>\n",
       "      <td>What's the context?</td>\n",
       "      <td>True</td>\n",
       "      <td>0</td>\n",
       "      <td>1493596822</td>\n",
       "      <td>None</td>\n",
       "      <td>False</td>\n",
       "      <td>0</td>\n",
       "      <td>...</td>\n",
       "      <td>2</td>\n",
       "      <td>False</td>\n",
       "      <td>soccer</td>\n",
       "      <td>t5_2qi58</td>\n",
       "      <td>2017-05-01 00:00:22</td>\n",
       "      <td>0</td>\n",
       "      <td>0</td>\n",
       "      <td>1</td>\n",
       "      <td>2017</td>\n",
       "      <td>5</td>\n",
       "    </tr>\n",
       "    <tr>\n",
       "      <th>3</th>\n",
       "      <td>iEatPorcupines</td>\n",
       "      <td>None</td>\n",
       "      <td>None</td>\n",
       "      <td>Just show him [this.](https://my.mixtape.moe/r...</td>\n",
       "      <td>True</td>\n",
       "      <td>0</td>\n",
       "      <td>1493596823</td>\n",
       "      <td>None</td>\n",
       "      <td>False</td>\n",
       "      <td>0</td>\n",
       "      <td>...</td>\n",
       "      <td>1</td>\n",
       "      <td>False</td>\n",
       "      <td>soccer</td>\n",
       "      <td>t5_2qi58</td>\n",
       "      <td>2017-05-01 00:00:23</td>\n",
       "      <td>0</td>\n",
       "      <td>0</td>\n",
       "      <td>1</td>\n",
       "      <td>2017</td>\n",
       "      <td>5</td>\n",
       "    </tr>\n",
       "    <tr>\n",
       "      <th>4</th>\n",
       "      <td>[deleted]</td>\n",
       "      <td>None</td>\n",
       "      <td>None</td>\n",
       "      <td>[deleted]</td>\n",
       "      <td>True</td>\n",
       "      <td>0</td>\n",
       "      <td>1493596826</td>\n",
       "      <td>None</td>\n",
       "      <td>False</td>\n",
       "      <td>0</td>\n",
       "      <td>...</td>\n",
       "      <td>-32</td>\n",
       "      <td>False</td>\n",
       "      <td>soccer</td>\n",
       "      <td>t5_2qi58</td>\n",
       "      <td>2017-05-01 00:00:26</td>\n",
       "      <td>0</td>\n",
       "      <td>0</td>\n",
       "      <td>1</td>\n",
       "      <td>2017</td>\n",
       "      <td>5</td>\n",
       "    </tr>\n",
       "  </tbody>\n",
       "</table>\n",
       "<p>5 rows × 24 columns</p>\n",
       "</div>"
      ],
      "text/plain": [
       "           author     author_flair_css_class author_flair_text  \\\n",
       "0  iEatPorcupines                       None              None   \n",
       "1     Thesolly180    s1 3 team-3 country-eng         Liverpool   \n",
       "2       ntdxc1878  s1 15 team-15 country-eng           Everton   \n",
       "3  iEatPorcupines                       None              None   \n",
       "4       [deleted]                       None              None   \n",
       "\n",
       "                                                body can_gild  \\\n",
       "0  After seeing [this,](https://my.mixtape.moe/ro...     True   \n",
       "1  Didn't say I'd never heard of it, where did I ...     True   \n",
       "2                                What's the context?     True   \n",
       "3  Just show him [this.](https://my.mixtape.moe/r...     True   \n",
       "4                                          [deleted]     True   \n",
       "\n",
       "   controversiality  created_utc distinguished edited  gilded      ...        \\\n",
       "0                 0   1493596800          None  False       0      ...         \n",
       "1                 0   1493596818          None  False       0      ...         \n",
       "2                 0   1493596822          None  False       0      ...         \n",
       "3                 0   1493596823          None  False       0      ...         \n",
       "4                 0   1493596826          None  False       0      ...         \n",
       "\n",
       "  score stickied subreddit  subreddit_id    created_datetime hour  \\\n",
       "0     2    False    soccer      t5_2qi58 2017-05-01 00:00:00    0   \n",
       "1     0    False    soccer      t5_2qi58 2017-05-01 00:00:18    0   \n",
       "2     2    False    soccer      t5_2qi58 2017-05-01 00:00:22    0   \n",
       "3     1    False    soccer      t5_2qi58 2017-05-01 00:00:23    0   \n",
       "4   -32    False    soccer      t5_2qi58 2017-05-01 00:00:26    0   \n",
       "\n",
       "  created_hour created_day created_year  created_month  \n",
       "0            0           1         2017              5  \n",
       "1            0           1         2017              5  \n",
       "2            0           1         2017              5  \n",
       "3            0           1         2017              5  \n",
       "4            0           1         2017              5  \n",
       "\n",
       "[5 rows x 24 columns]"
      ]
     },
     "execution_count": 100,
     "metadata": {},
     "output_type": "execute_result"
    }
   ],
   "source": [
    "subr_df.head()"
   ]
  },
  {
   "cell_type": "code",
   "execution_count": 101,
   "metadata": {
    "collapsed": false
   },
   "outputs": [],
   "source": [
    "#count comments during the month by time\n",
    "time_counts=subr_df.created_datetime.value_counts()\n",
    "time_countsDf=time_counts.to_frame()\n",
    "#time_countsDf.rename(columns=)\n",
    "time_countsDf.rename(columns={'time':'comments'},inplace=True)"
   ]
  },
  {
   "cell_type": "code",
   "execution_count": 102,
   "metadata": {
    "collapsed": false
   },
   "outputs": [
    {
     "data": {
      "image/png": "[encoded data removed]",
      "text/plain": [
       "<matplotlib.figure.Figure at 0x22fcc926908>"
      ]
     },
     "metadata": {},
     "output_type": "display_data"
    }
   ],
   "source": [
    "#now graph the number of comments during the month by time\n",
    "\n",
    "#plot comments by hour of the day\n",
    "import matplotlib.pyplot as plt\n",
    "%matplotlib inline\n",
    "\n",
    "time_countsDf.plot(kind='line',title= 'comments during May 2017')\n",
    "plt.xticks(rotation=45)\n",
    "plt.xlabel('Date')\n",
    "plt.ylabel('Comments')\n",
    "plt.show()\n"
   ]
  },
  {
   "cell_type": "markdown",
   "metadata": {},
   "source": [
    "Inspecting some of the fields, it looks like some comments have been deleted. I'll end up dropping those comments from the data set."
   ]
  },
  {
   "cell_type": "code",
   "execution_count": 91,
   "metadata": {
    "collapsed": false
   },
   "outputs": [],
   "source": [
    "#create an 'hour' feature so we can graph posts by hour of day\n",
    "subr_df['hour']=subr_df.created_datetime.dt.hour"
   ]
  },
  {
   "cell_type": "markdown",
   "metadata": {},
   "source": [
    "Let's look at comments by day/ time in a couple of different ways."
   ]
  },
  {
   "cell_type": "markdown",
   "metadata": {},
   "source": [
    "Let's look at the number of comments per day of the month.\n",
    "The largest comment count was on the 21st of May.  May 21st was 'Super Sunday'(the last day of the season) in the Barclay's Premier League and should explain the high comment count. "
   ]
  },
  {
   "cell_type": "code",
   "execution_count": 103,
   "metadata": {
    "collapsed": false
   },
   "outputs": [],
   "source": [
    "day_counts=subr_df.created_day.value_counts().sort_index()\n",
    "day_countsDf= day_counts.to_frame()\n",
    "day_countsDf.rename(columns={'time':'comments'},inplace=True)"
   ]
  },
  {
   "cell_type": "code",
   "execution_count": null,
   "metadata": {
    "collapsed": true
   },
   "outputs": [],
   "source": [
    "\n",
    "import matplotlib.pyplot as plt\n",
    "%matplotlib inline\n",
    "\n",
    "day_countsDf.plot(kind='line',title= 'comments by day during May 2017')\n",
    "plt.xticks(rotation=45)\n",
    "plt.xlabel('Date')\n",
    "plt.ylabel('Comments')\n",
    "plt.show()\n"
   ]
  },
  {
   "cell_type": "markdown",
   "metadata": {},
   "source": [
    "Next look at hour of the day.  Earlier we created an hour feature based on our 'created_datetime' field."
   ]
  },
  {
   "cell_type": "code",
   "execution_count": 107,
   "metadata": {
    "collapsed": false
   },
   "outputs": [],
   "source": [
    "#count comments by hour(1-24) of the day\n",
    "hour_counts=subr_df.hour.value_counts().sort_index()\n",
    "unique_hours=subr_df.hour.unique()\n",
    "hour_countsDf= hour_counts.to_frame()\n",
    "#unique_hoursDf= unique_hours.to_frame()\n",
    "hour_countsDf.rename(columns={'hour':'comments'},inplace=True)\n",
    "#print(hour_counts)\n",
    "#print(unique_hours)"
   ]
  },
  {
   "cell_type": "markdown",
   "metadata": {},
   "source": [
    "Based on the graph below, comment volume throughout the month peaks at hour 20 or 8 pm.  "
   ]
  },
  {
   "cell_type": "code",
   "execution_count": 109,
   "metadata": {
    "collapsed": false
   },
   "outputs": [
    {
     "data": {
      "image/png": "[encoded data removed]",
      "text/plain": [
       "<matplotlib.figure.Figure at 0x22fc9288048>"
      ]
     },
     "metadata": {},
     "output_type": "display_data"
    }
   ],
   "source": [
    "#plot comments by hour of the day\n",
    "import matplotlib.pyplot as plt\n",
    "%matplotlib inline\n",
    "\n",
    "hour_countsDf.plot(kind='line',title= 'comments by hour of the day (May 2017)')\n",
    "plt.xticks(rotation=45)\n",
    "plt.xlabel('hour of day')\n",
    "plt.ylabel('Comments')\n",
    "plt.show()\n"
   ]
  },
  {
   "cell_type": "markdown",
   "metadata": {},
   "source": [
    "An important step is determining which comments to use.  Often sub-comments can turn into conversations between two individuals and may not have any upvotes.\n",
    "\n",
    "Building a commnet tree requires parsing the parent_id field and matching ID's until reaching a parent_id beginning with 't3'.\n",
    "\n",
    "In this project I will use parent level comments.  Parent level comments have t3 in the 'parent_id' field.\n",
    "I'm going to use a simple regular expression to subset the dataframe so I just have parent level comments.\n"
   ]
  },
  {
   "cell_type": "code",
   "execution_count": 138,
   "metadata": {
    "collapsed": false
   },
   "outputs": [],
   "source": [
    "import re \n",
    "par_subr_df=subr_df[subr_df.parent_id.str.contains('t3_',regex=True)]\n"
   ]
  },
  {
   "cell_type": "markdown",
   "metadata": {},
   "source": [
    "As we saw earlier, some comments have been deleted and I also want to drop these."
   ]
  },
  {
   "cell_type": "code",
   "execution_count": 152,
   "metadata": {
    "collapsed": true
   },
   "outputs": [],
   "source": [
    "#remove obeservations where the body/comment was deleted\n",
    "del_par_subr_df= par_subr_df.loc[(par_subr_df['body']!='[deleted]')]"
   ]
  },
  {
   "cell_type": "markdown",
   "metadata": {},
   "source": [
    "Since"
   ]
  },
  {
   "cell_type": "code",
   "execution_count": 154,
   "metadata": {
    "collapsed": false
   },
   "outputs": [
    {
     "data": {
      "text/plain": [
       "count    155254.000000\n",
       "mean         19.221482\n",
       "std         110.013798\n",
       "min        -220.000000\n",
       "25%           1.000000\n",
       "50%           2.000000\n",
       "75%           8.000000\n",
       "max       10818.000000\n",
       "Name: score, dtype: float64"
      ]
     },
     "execution_count": 154,
     "metadata": {},
     "output_type": "execute_result"
    }
   ],
   "source": [
    "del_par_subr_df['score'].describe()"
   ]
  },
  {
   "cell_type": "code",
   "execution_count": 301,
   "metadata": {
    "collapsed": false
   },
   "outputs": [
    {
     "data": {
      "image/png": "[encoded data removed]",
      "text/plain": [
       "<matplotlib.figure.Figure at 0x2302f409f28>"
      ]
     },
     "metadata": {},
     "output_type": "display_data"
    }
   ],
   "source": [
    "import numpy as np\n",
    "import matplotlib.mlab as mlab\n",
    "import matplotlib.pyplot as plt\n",
    " \n",
    "x = del_par_subr_df['score']\n",
    "num_bins = 100\n",
    "n, bins, patches = plt.hist(x,num_bins, range=[-50,100], facecolor='blue', alpha=0.5)\n",
    "plt.title('Histogram of subreddit upvotes')\n",
    "plt.ylabel('density')\n",
    "plt.xlabel('bins')\n",
    "plt.show()"
   ]
  },
  {
   "cell_type": "code",
   "execution_count": null,
   "metadata": {
    "collapsed": true
   },
   "outputs": [],
   "source": [
    "import numpy as np \n",
    "del_par_subr_df.target=np.where(del_par_subr_df.score<2,0,1)"
   ]
  },
  {
   "cell_type": "markdown",
   "metadata": {},
   "source": [
    "\n",
    "Before cleaning and applying any machine learning algorithm I'm going to split the data 80/20 into a training and test set.  This way 80% of the data will be used to train a model and 20% of the data the model has never seen will be used to evaluate performance of the model."
   ]
  },
  {
   "cell_type": "code",
   "execution_count": 186,
   "metadata": {
    "collapsed": true
   },
   "outputs": [],
   "source": [
    "#split data set into train and test \n",
    "from sklearn.model_selection import train_test_split \n",
    "\n",
    "#split dataStg into train/ test\n",
    "train, test= train_test_split(del_par_subr_df,test_size=.2)\n",
    "\n",
    "# recreate index in test and train sets so we can run through the text processing function\n",
    "train.reset_index(drop=True, inplace=True)\n",
    "test.reset_index(drop=True, inplace=True)\n"
   ]
  },
  {
   "cell_type": "markdown",
   "metadata": {},
   "source": [
    "There are several methods of cleaning a corpus.  In the step below, I define a function to clean the text one document at a time. Text cleaning includes removing html tags, web links, converting text to lower case, removing numbers, removing stop words, and lemmatizing the text. "
   ]
  },
  {
   "cell_type": "code",
   "execution_count": 225,
   "metadata": {
    "collapsed": true
   },
   "outputs": [],
   "source": [
    "#clean text\n",
    "#define function to process raw text one record at a time\n",
    "from bs4 import BeautifulSoup\n",
    "import re \n",
    "from nltk.stem import WordNetLemmatizer\n",
    "wordnet_lemmatizer= WordNetLemmatizer()\n",
    "from nltk.stem import PorterStemmer \n",
    "ps= PorterStemmer()\n",
    "from nltk.corpus import stopwords \n",
    "from nltk import clean_html\n",
    "\n",
    "def processText(raw):\n",
    "#remove tags\n",
    "#    text= clean_html(raw)\n",
    "    text = BeautifulSoup(raw,'lxml')\n",
    "\n",
    "#remove numbers so we only have text    \n",
    "    letters= re.sub(\"[^a-zA-Z]\",\" \",text.get_text())\n",
    "#remove url patterns    \n",
    "    url_pattern = r'((http|ftp|https):\\/\\/)?[\\w\\-_]+(\\.[\\w\\-_]+)+([\\w\\-\\.,@?^=%&amp;:/~\\+#]*[\\w\\-\\@?^=%&amp;/~\\+#])?'\n",
    "    lettersOnly = re.sub(url_pattern, ' ', letters)\n",
    "#change everything to lower case and split \n",
    "    lowers= lettersOnly.lower()\n",
    "#stem lower case letters\n",
    "    lems= wordnet_lemmatizer.lemmatize(lowers).split()\n",
    "#remove common words using nltk dictionary\n",
    "    stopWords= set(stopwords.words('english'))\n",
    "    procdText= [j for j in lems if not j in stopWords]\n",
    "#mash everything back together     \n",
    "    return procdText\n",
    "    #return( \" \".join(procdText))"
   ]
  },
  {
   "cell_type": "code",
   "execution_count": null,
   "metadata": {
    "collapsed": true
   },
   "outputs": [],
   "source": [
    "#loop through train data and process text\n",
    "#get number of rows\n",
    "numRows= train[\"body\"].size\n",
    "print(numRows)\n",
    "#init empty list\n",
    "cleanText= []\n",
    "#now loop through text rows\n",
    "for i in range(0,numRows):\n",
    "    if ((i+1)%50000 == 0 ):\n",
    "        print (\"processing %d of %d\\n\" %(i+1,numRows))\n",
    "    cleanText.append(processText(train[\"body\"][i]))"
   ]
  },
  {
   "cell_type": "code",
   "execution_count": null,
   "metadata": {
    "collapsed": true
   },
   "outputs": [],
   "source": [
    "#Do the same processing loop through text for the test data\n",
    "numRows= test[\"body\"].size\n",
    "print(numRows)\n",
    "#init empty list\n",
    "testText= []\n",
    "#now loop through text rows\n",
    "for i in range(0,numRows):\n",
    "    if ((i+1)%50000 == 0 ):\n",
    "        print (\"processing %d of %d\\n\" %(i+1,numRows))\n",
    "    testText.append(processText(test[\"body\"][i]))"
   ]
  },
  {
   "cell_type": "markdown",
   "metadata": {},
   "source": [
    "Prior to running an LDA model, I set up a log the writes out to the screen.  Gensim doesn't automatically print log messages, so running a model over large corpus there may not be any indication of how far the model has progressed. "
   ]
  },
  {
   "cell_type": "code",
   "execution_count": 237,
   "metadata": {
    "collapsed": false
   },
   "outputs": [],
   "source": [
    "import logging\n",
    "logging.basicConfig(format='%(asctime)s : %(levelname)s : %(message)s', level=logging.INFO)"
   ]
  },
  {
   "cell_type": "code",
   "execution_count": null,
   "metadata": {
    "collapsed": true
   },
   "outputs": [],
   "source": [
    "import gensim\n",
    "from gensim import corpora\n",
    "\n",
    "# Creating the term dictionary of our courpus, where every unique term is assigned an index. dictionary = corpora.Dictionary(doc_clean)\n",
    "dictionary = corpora.Dictionary(cleanText)\n",
    "dictionary.filter_extremes(no_below=10, no_above=0.4)\n",
    "# Converting list of documents (corpus) into Document Term Matrix using dictionary prepared above.\n",
    "doc_term_matrix = [dictionary.doc2bow(doc) for doc in cleanText]"
   ]
  },
  {
   "cell_type": "markdown",
   "metadata": {},
   "source": [
    "We can print out topics of the LDA model learned in the last step to get more understanding of each topic.  At this point some domain knowledge is helpful to understand how well these topics are fitting."
   ]
  },
  {
   "cell_type": "code",
   "execution_count": 246,
   "metadata": {
    "collapsed": false
   },
   "outputs": [],
   "source": [
    "def explore_topic(topic_number, topn=25):\n",
    "    \"\"\"\n",
    "    accept a user-supplied topic number and\n",
    "    print out a formatted list of the top terms\n",
    "    \"\"\"\n",
    "        \n",
    "    print (u'{:20} {}'.format(u'term', u'frequency') + u'\\n')\n",
    "\n",
    "    for term, frequency in ldamodel.show_topic(topic_number, topn=25):\n",
    "        print (u'{:20} {:.3f}'.format(term, round(frequency, 3)))"
   ]
  },
  {
   "cell_type": "code",
   "execution_count": null,
   "metadata": {
    "collapsed": true
   },
   "outputs": [],
   "source": [
    "explore_topic(0, topn=25)"
   ]
  },
  {
   "cell_type": "markdown",
   "metadata": {},
   "source": [
    "term                 frequency\n",
    "\n",
    "fuck                 0.034\n",
    "r                    0.025\n",
    "soccer               0.019\n",
    "please               0.017\n",
    "post                 0.017\n",
    "least                0.016\n",
    "removed              0.014\n",
    "must                 0.012\n",
    "old                  0.008\n",
    "legend               0.007\n",
    "yellow               0.007\n",
    "contact              0.007\n",
    "action               0.007\n",
    "yes                  0.007\n",
    "questions            0.006\n",
    "one                  0.006\n",
    "automatically        0.006\n",
    "want                 0.006\n",
    "thread               0.006\n",
    "subreddit            0.006\n",
    "performed            0.006\n",
    "jesus                0.006\n",
    "use                  0.006\n",
    "bot                  0.006\n",
    "message              0.006"
   ]
  },
  {
   "cell_type": "code",
   "execution_count": null,
   "metadata": {
    "collapsed": true
   },
   "outputs": [],
   "source": [
    "explore_topic(1, topn=25)"
   ]
  },
  {
   "cell_type": "markdown",
   "metadata": {},
   "source": [
    "term                 frequency\n",
    "\n",
    "like                 0.011\n",
    "season               0.008\n",
    "would                0.007\n",
    "get                  0.007\n",
    "game                 0.007\n",
    "good                 0.007\n",
    "one                  0.007\n",
    "team                 0.007\n",
    "league               0.006\n",
    "really               0.005\n",
    "think                0.005\n",
    "players              0.005\n",
    "play                 0.005\n",
    "goal                 0.005\n",
    "even                 0.005\n",
    "see                  0.005\n",
    "time                 0.005\n",
    "going                0.004\n",
    "great                0.004\n",
    "well                 0.004\n",
    "player               0.004\n",
    "fucking              0.004\n",
    "football             0.004\n",
    "win                  0.004\n",
    "shit                 0.004"
   ]
  },
  {
   "cell_type": "code",
   "execution_count": null,
   "metadata": {
    "collapsed": true
   },
   "outputs": [],
   "source": [
    "explore_topic(2,topn=25)"
   ]
  },
  {
   "cell_type": "markdown",
   "metadata": {},
   "source": [
    "term                 frequency\n",
    "\n",
    "com                  0.042\n",
    "https                0.036\n",
    "streamable           0.020\n",
    "www                  0.015\n",
    "mirror               0.012\n",
    "u                    0.011\n",
    "http                 0.011\n",
    "bot                  0.010\n",
    "message              0.009\n",
    "reddit               0.008\n",
    "v                    0.008\n",
    "possible             0.008\n",
    "leave                0.007\n",
    "watch                0.007\n",
    "youtube              0.007\n",
    "e                    0.006\n",
    "holy                 0.006\n",
    "feedback             0.006\n",
    "b                    0.005\n",
    "imgur                0.005\n",
    "n                    0.005\n",
    "vs                   0.005\n",
    "subject              0.005\n",
    "pm                   0.004\n",
    "compose              0.004"
   ]
  },
  {
   "cell_type": "markdown",
   "metadata": {},
   "source": [
    "Some of these topics have a very distinct feel about them, but a lot of them seem to drift all over the place without a very consistent theme."
   ]
  },
  {
   "cell_type": "markdown",
   "metadata": {},
   "source": [
    "The graph below uses the pyLDAvis library. \n",
    "The three topics in the corpus appear distinct from each other.  \n",
    "After a few passes I reduced the number of topics to 3.  Adding extra topics beyond 3 appeared similar and overlapped each other.  "
   ]
  },
  {
   "cell_type": "markdown",
   "metadata": {},
   "source": [
    "The circles in the left panel are graph of distance between topics. Circles close together represent similar topics.\n",
    "Circles further apart represent dissimilar topics.  The size of circles is related to the frequency of topics in the corpus."
   ]
  },
  {
   "cell_type": "code",
   "execution_count": 261,
   "metadata": {
    "collapsed": false
   },
   "outputs": [],
   "source": [
    "import pyLDAvis\n",
    "import pyLDAvis.gensim\n",
    "\n",
    "LDAvis_prepared = pyLDAvis.gensim.prepare(ldamodel, doc_term_matrix,dictionary)"
   ]
  },
  {
   "cell_type": "code",
   "execution_count": 262,
   "metadata": {
    "collapsed": false
   },
   "outputs": [
    {
     "data": {
      "text/html": [
       "\n",
       "<link rel=\"stylesheet\" type=\"text/css\" href=\"https://cdn.rawgit.com/bmabey/pyLDAvis/files/ldavis.v1.0.0.css\">\n",
       "\n",
       "\n",
       "<div id=\"ldavis_el104824055970092649231637255\"></div>\n",
       "<script type=\"text/javascript\">\n",
       "\n",
       "var ldavis_el104824055970092649231637255_data = {\"mdsDat\": {\"Freq\": [39.3574963728955, 11.430978701344033, 7.595352270352368, 6.8353300348553585, 6.649552966185106, 6.382505821734482, 5.973316331724581, 5.7756189280849455, 5.474389126855404, 4.525459445968235], \"cluster\": [1, 1, 1, 1, 1, 1, 1, 1, 1, 1], \"topics\": [1, 2, 3, 4, 5, 6, 7, 8, 9, 10], \"x\": [-0.35643571054904616, -0.10272486169290505, 0.1250833134729623, 0.11779922931406935, 0.06709967528799454, 0.1227816006065763, -0.07899256617836364, 0.12192484435729385, -0.14538640989927576, 0.1288508852806943], \"y\": [-0.09610932153854972, -0.30808377206480586, -0.0551731824362984, -0.08839687014355335, 0.05239313322563832, -0.010161854210217282, 0.22890930942543117, 0.0191800219707931, 0.24900438526198396, 0.008438150509578392]}, \"tinfo\": {\"Category\": [\"Default\", \"Default\", \"Default\", \"Default\", \"Default\", \"Default\", \"Default\", \"Default\", \"Default\", \"Default\", \"Default\", \"Default\", \"Default\", \"Default\", \"Default\", \"Default\", \"Default\", \"Default\", \"Default\", \"Default\", \"Default\", \"Default\", \"Default\", \"Default\", \"Default\", \"Default\", \"Default\", \"Default\", \"Default\", \"Default\", \"Topic1\", \"Topic1\", \"Topic1\", \"Topic1\", \"Topic1\", \"Topic1\", \"Topic1\", \"Topic1\", \"Topic1\", \"Topic1\", \"Topic1\", \"Topic1\", \"Topic1\", \"Topic1\", \"Topic1\", \"Topic1\", \"Topic1\", \"Topic1\", \"Topic1\", \"Topic1\", \"Topic1\", \"Topic1\", \"Topic1\", \"Topic1\", \"Topic1\", \"Topic1\", \"Topic1\", \"Topic1\", \"Topic1\", \"Topic1\", \"Topic1\", \"Topic1\", \"Topic1\", \"Topic1\", \"Topic2\", \"Topic2\", \"Topic2\", \"Topic2\", \"Topic2\", \"Topic2\", \"Topic2\", \"Topic2\", \"Topic2\", \"Topic2\", \"Topic2\", \"Topic2\", \"Topic2\", \"Topic2\", \"Topic2\", \"Topic2\", \"Topic2\", \"Topic2\", \"Topic2\", \"Topic2\", \"Topic2\", \"Topic2\", \"Topic2\", \"Topic2\", \"Topic2\", \"Topic2\", \"Topic2\", \"Topic2\", \"Topic2\", \"Topic2\", \"Topic2\", \"Topic2\", \"Topic3\", \"Topic3\", \"Topic3\", \"Topic3\", \"Topic3\", \"Topic3\", \"Topic3\", \"Topic3\", \"Topic3\", \"Topic3\", \"Topic3\", \"Topic3\", \"Topic3\", \"Topic3\", \"Topic3\", \"Topic3\", \"Topic3\", \"Topic3\", \"Topic3\", \"Topic3\", \"Topic3\", \"Topic3\", \"Topic3\", \"Topic3\", \"Topic3\", \"Topic3\", \"Topic3\", \"Topic3\", \"Topic3\", \"Topic3\", \"Topic4\", \"Topic4\", \"Topic4\", \"Topic4\", \"Topic4\", \"Topic4\", \"Topic4\", \"Topic4\", \"Topic4\", \"Topic4\", \"Topic4\", \"Topic4\", \"Topic4\", \"Topic4\", \"Topic4\", \"Topic4\", \"Topic4\", \"Topic4\", \"Topic4\", \"Topic4\", \"Topic4\", \"Topic4\", \"Topic4\", \"Topic4\", \"Topic4\", \"Topic4\", \"Topic4\", \"Topic4\", \"Topic4\", \"Topic4\", \"Topic5\", \"Topic5\", \"Topic5\", \"Topic5\", \"Topic5\", \"Topic5\", \"Topic5\", \"Topic5\", \"Topic5\", \"Topic5\", \"Topic5\", \"Topic5\", \"Topic5\", \"Topic5\", \"Topic5\", \"Topic5\", \"Topic5\", \"Topic5\", \"Topic5\", \"Topic5\", \"Topic5\", \"Topic5\", \"Topic5\", \"Topic5\", \"Topic5\", \"Topic5\", \"Topic5\", \"Topic5\", \"Topic5\", \"Topic5\", \"Topic6\", \"Topic6\", \"Topic6\", \"Topic6\", \"Topic6\", \"Topic6\", \"Topic6\", \"Topic6\", \"Topic6\", \"Topic6\", \"Topic6\", \"Topic6\", \"Topic6\", \"Topic6\", \"Topic6\", \"Topic6\", \"Topic6\", \"Topic6\", \"Topic6\", \"Topic6\", \"Topic6\", \"Topic6\", \"Topic6\", \"Topic6\", \"Topic6\", \"Topic6\", \"Topic6\", \"Topic6\", \"Topic6\", \"Topic6\", \"Topic6\", \"Topic7\", \"Topic7\", \"Topic7\", \"Topic7\", \"Topic7\", \"Topic7\", \"Topic7\", \"Topic7\", \"Topic7\", \"Topic7\", \"Topic7\", \"Topic7\", \"Topic7\", \"Topic7\", \"Topic7\", \"Topic7\", \"Topic7\", \"Topic7\", \"Topic7\", \"Topic7\", \"Topic7\", \"Topic7\", \"Topic7\", \"Topic7\", \"Topic7\", \"Topic7\", \"Topic7\", \"Topic7\", \"Topic7\", \"Topic7\", \"Topic7\", \"Topic7\", \"Topic7\", \"Topic7\", \"Topic7\", \"Topic7\", \"Topic7\", \"Topic7\", \"Topic8\", \"Topic8\", \"Topic8\", \"Topic8\", \"Topic8\", \"Topic8\", \"Topic8\", \"Topic8\", \"Topic8\", \"Topic8\", \"Topic8\", \"Topic8\", \"Topic8\", \"Topic8\", \"Topic8\", \"Topic8\", \"Topic8\", \"Topic8\", \"Topic8\", \"Topic8\", \"Topic8\", \"Topic8\", \"Topic8\", \"Topic8\", \"Topic8\", \"Topic8\", \"Topic8\", \"Topic8\", \"Topic8\", \"Topic8\", \"Topic8\", \"Topic9\", \"Topic9\", \"Topic9\", \"Topic9\", \"Topic9\", \"Topic9\", \"Topic9\", \"Topic9\", \"Topic9\", \"Topic9\", \"Topic9\", \"Topic9\", \"Topic9\", \"Topic9\", \"Topic9\", \"Topic9\", \"Topic9\", \"Topic9\", \"Topic9\", \"Topic9\", \"Topic9\", \"Topic9\", \"Topic9\", \"Topic9\", \"Topic9\", \"Topic9\", \"Topic9\", \"Topic9\", \"Topic9\", \"Topic9\", \"Topic9\", \"Topic9\", \"Topic9\", \"Topic9\", \"Topic9\", \"Topic9\", \"Topic10\", \"Topic10\", \"Topic10\", \"Topic10\", \"Topic10\", \"Topic10\", \"Topic10\", \"Topic10\", \"Topic10\", \"Topic10\", \"Topic10\", \"Topic10\", \"Topic10\", \"Topic10\", \"Topic10\", \"Topic10\", \"Topic10\", \"Topic10\", \"Topic10\", \"Topic10\", \"Topic10\", \"Topic10\", \"Topic10\", \"Topic10\", \"Topic10\", \"Topic10\", \"Topic10\", \"Topic10\", \"Topic10\", \"Topic10\"], \"Freq\": [7744.0, 5055.0, 5951.0, 4514.0, 4023.0, 3755.0, 3428.0, 3335.0, 9143.0, 2956.0, 3455.0, 2557.0, 3254.0, 3217.0, 2702.0, 3066.0, 6605.0, 2939.0, 2918.0, 6688.0, 2105.0, 6519.0, 2102.0, 1966.0, 1955.0, 6060.0, 2591.0, 1990.0, 2022.0, 2452.0, 9142.782370738509, 6688.488058528306, 6519.20747158998, 6060.035602191314, 5199.444181799072, 4817.598481084599, 4449.873471616202, 4333.133302518791, 4324.280796542095, 4214.302441457969, 4055.8016252278994, 3998.963861190535, 3968.183090121495, 3922.7877515223363, 3772.184946829571, 3737.1434336449597, 3631.6988352513536, 3473.0594256581, 3226.2856513277197, 3124.373352704084, 3089.821132115781, 3076.4778623337006, 2924.567172720053, 2930.5426448257185, 2872.8881962918535, 2744.1858530381005, 2716.8587959443603, 2849.540788244489, 2618.3109507479107, 2986.5727469969092, 5405.723212909986, 4594.172899959749, 6097.1890961561085, 3750.1050819063253, 7743.839583014573, 5950.750824346398, 3455.429453817998, 3254.4073385677016, 3066.5954412747496, 2939.585177725919, 2918.5995710616817, 3216.9235031136204, 2590.8602449092664, 2452.4622734897243, 2354.7978671280825, 2196.583000620904, 1926.8423210886274, 1882.2102965338445, 1784.2493328475555, 1594.90009793612, 1591.066156919384, 1359.0481279298776, 1335.086025974181, 1100.1512006152846, 1019.3037733458301, 1008.0369225152816, 967.7538816103023, 969.3270855743025, 950.0831820500119, 932.7669828687457, 896.8486011392516, 867.7048409359973, 796.2271856576094, 800.8790514217981, 899.5686438328569, 815.2672440789024, 2701.7588232304774, 2061.884433057384, 1620.6849804355284, 1407.7143428726326, 1303.3109957719976, 1175.2549755385644, 1137.7037207263727, 1129.0949987898455, 1059.0483599956583, 1013.7060310924223, 960.031531965418, 922.5827949871042, 862.5384922679235, 819.2201365319509, 816.527963786941, 794.8946622487117, 703.4332624678989, 667.2119307471753, 648.1829124768024, 556.5862436858364, 542.7924561416241, 541.293935557961, 510.33997546201294, 507.32165174115414, 503.19043461122715, 501.0783134247946, 499.35077305644603, 482.22552379266426, 473.58774182941954, 473.4926169131453, 4023.391642370733, 3754.7465378743314, 3334.749752696697, 2022.571450291466, 1206.2579742575897, 1001.1924306952029, 995.1354016067497, 946.838981182721, 792.3258182983021, 763.526382003238, 751.963201928615, 725.9311104533766, 726.1131334154624, 711.9192982926369, 700.3472508003892, 662.4155641380665, 644.4505825544439, 634.9630344210481, 627.7206591912307, 619.7524746925043, 575.43717561598, 559.1804811763271, 521.1485593554216, 501.8875881426496, 472.79850200222035, 466.4430710863322, 464.8387627925833, 459.4636916813861, 451.3501678791723, 434.7398397572012, 676.2627638058249, 662.9084407596968, 633.5737792385752, 607.5214444401993, 554.8134665434827, 470.46252936053185, 464.76682788794824, 460.09983312060143, 435.7941846278223, 423.05867805432223, 405.67828009817157, 400.4114949828304, 395.34592820259417, 388.6437647244326, 370.55928601914485, 372.822259974245, 367.8996048995514, 348.0023817418729, 348.16772025200646, 346.1484410643397, 338.0927868893932, 337.02333699490754, 325.09081942050994, 318.41976124272975, 320.2493775900098, 316.6094280527918, 316.8299756656026, 310.70569588573665, 312.70218502135964, 309.40021836540024, 1096.8679480589387, 850.4817076156626, 792.1109776867721, 751.8879755553786, 706.4699378809228, 672.667616580165, 638.3429833179449, 624.2839097911615, 626.5822237091637, 600.6882166710993, 579.1343726406382, 574.8752152943697, 574.1385517927763, 549.420960345854, 539.3548161281786, 507.8340641602269, 510.9449946971041, 501.17275748297413, 484.6878488029493, 482.8372105545224, 476.48139738482007, 464.64575344998514, 449.759930857357, 447.73907051651145, 440.62587790273705, 427.27233418363556, 416.58077562744535, 390.72155274513483, 383.9714281886128, 383.8138652429159, 814.2037616843746, 5054.941319418149, 4513.917799941639, 2102.0669922440775, 1989.8601274316457, 1291.634341594987, 1263.2769623140664, 1242.7484567897586, 1118.5563984317482, 986.8628603851153, 929.1539530381673, 864.4781503912211, 675.5964770904809, 659.107138531113, 601.1207623103019, 562.2769954584697, 533.5374755235284, 531.0131173238346, 488.40368001537223, 476.44229441025936, 471.48256282594843, 451.4950746829646, 446.86387944284934, 446.3662582977277, 441.1351573915109, 417.1378070969908, 411.41023453217775, 383.8382578833803, 373.4324378830179, 355.2580954372142, 347.7990799109107, 722.3238371836617, 1114.281877936395, 1015.6472646696219, 835.3788735373403, 738.2489318958044, 457.8086679790657, 627.4587550588654, 466.3275583141782, 2955.7647557285622, 1736.8783950587133, 1744.2239302028495, 853.1045954880947, 781.4105346004269, 742.5601602088807, 739.9237495863788, 717.8785166990117, 691.7960324439191, 655.6173818206748, 606.5582132487991, 599.8384781419355, 594.8764496918258, 566.2070679964502, 533.9830681046711, 532.4449180223298, 458.8349403349984, 442.58232356848555, 413.768278185662, 389.70602001678446, 385.4188065216771, 378.35755447403307, 368.2996485193506, 360.2358150367281, 347.14282293841023, 334.97239988454, 312.8314363996696, 308.6152889285589, 297.4870136555285, 292.77306788251553, 375.86720967698045, 3427.8038578153455, 2556.902115031152, 2104.862441733183, 1966.6556326099462, 1954.7615521727803, 1772.6797169737374, 1771.0363476529308, 884.2437126907166, 866.5649015155041, 839.1888545177598, 809.4619448958192, 791.0906352783509, 785.4706956302326, 774.2780527592182, 760.8502687030182, 743.1988718890334, 737.8610136740105, 733.9122844116378, 673.9228336818519, 659.4089625630962, 650.9253659491621, 635.2133517090383, 598.4239471911089, 541.8069326747707, 527.3158475625506, 508.4691366136001, 499.23829088397974, 465.24190632552074, 461.1169630297408, 435.7584788587584, 630.3833043328057, 742.2657589408635, 751.848419280414, 756.4709179697861, 671.976428262617, 644.9523241875152, 1241.3196637026124, 1044.7135734523508, 876.330585061768, 726.2109345649989, 558.8625801924284, 497.28969162089766, 484.4658293112216, 473.89514833351024, 444.8344945553729, 441.907720452568, 417.3027921248566, 410.24109623990415, 399.8669530787747, 401.82494849129864, 380.0760964067788, 343.8268136392985, 343.1724982229548, 331.7793395031809, 328.74350417218176, 330.78806372419035, 322.1903250641164, 313.77221922054065, 296.2822346512726, 278.5816532214148, 269.07734487707796, 265.9425845023442, 254.14174021357792, 245.33916621245606, 239.57592502664158, 236.18802059659228], \"Term\": [\"season\", \"com\", \"league\", \"https\", \"fucking\", \"fuck\", \"r\", \"shit\", \"like\", \"man\", \"next\", \"soccer\", \"win\", \"last\", \"real\", \"arsenal\", \"one\", \"united\", \"year\", \"would\", \"post\", \"get\", \"streamable\", \"least\", \"please\", \"good\", \"top\", \"www\", \"ball\", \"teams\", \"like\", \"would\", \"get\", \"good\", \"game\", \"really\", \"see\", \"time\", \"think\", \"players\", \"going\", \"play\", \"well\", \"great\", \"even\", \"player\", \"much\", \"back\", \"go\", \"better\", \"still\", \"best\", \"know\", \"could\", \"first\", \"us\", \"got\", \"club\", \"right\", \"fans\", \"team\", \"goal\", \"one\", \"football\", \"season\", \"league\", \"next\", \"win\", \"arsenal\", \"united\", \"year\", \"last\", \"top\", \"teams\", \"final\", \"chelsea\", \"th\", \"city\", \"cup\", \"wenger\", \"liverpool\", \"cl\", \"champions\", \"winning\", \"title\", \"mourinho\", \"points\", \"manchester\", \"place\", \"finish\", \"spurs\", \"lose\", \"europe\", \"europa\", \"games\", \"vs\", \"real\", \"madrid\", \"done\", \"nice\", \"score\", \"clubs\", \"premier\", \"juve\", \"bayern\", \"barcelona\", \"believe\", \"barca\", \"guys\", \"yes\", \"almost\", \"mean\", \"juventus\", \"interesting\", \"england\", \"deal\", \"deserved\", \"chances\", \"milan\", \"course\", \"pep\", \"plays\", \"dont\", \"stuff\", \"spain\", \"psg\", \"fucking\", \"fuck\", \"shit\", \"ball\", \"ref\", \"red\", \"hell\", \"penalty\", \"holy\", \"stop\", \"legend\", \"card\", \"pass\", \"call\", \"yellow\", \"la\", \"miss\", \"liga\", \"shot\", \"rooney\", \"wtf\", \"lmao\", \"cunt\", \"sanchez\", \"thank\", \"ozil\", \"haha\", \"dive\", \"leg\", \"fabregas\", \"video\", \"stadium\", \"article\", \"news\", \"hull\", \"stats\", \"insane\", \"surprised\", \"totti\", \"near\", \"story\", \"op\", \"prem\", \"american\", \"interested\", \"palace\", \"amount\", \"picture\", \"david\", \"sky\", \"sports\", \"heard\", \"stat\", \"word\", \"night\", \"honest\", \"tv\", \"average\", \"bundesliga\", \"per\", \"monaco\", \"looking\", \"west\", \"stay\", \"jesus\", \"silva\", \"signing\", \"sad\", \"poor\", \"fantastic\", \"quality\", \"forward\", \"starting\", \"costa\", \"lads\", \"defense\", \"ham\", \"save\", \"higuain\", \"decent\", \"help\", \"fun\", \"hoping\", \"defending\", \"isco\", \"front\", \"finishing\", \"sort\", \"youth\", \"thats\", \"de\", \"com\", \"https\", \"streamable\", \"www\", \"mirror\", \"reddit\", \"u\", \"http\", \"possible\", \"v\", \"comments\", \"feedback\", \"e\", \"b\", \"imgur\", \"c\", \"n\", \"subject\", \"pm\", \"jpg\", \"erody\", \"creator\", \"suggestions\", \"twittertostreamable\", \"twitter\", \"fucked\", \"l\", \"injury\", \"f\", \"huddersfield\", \"youtube\", \"bot\", \"message\", \"leave\", \"vs\", \"media\", \"watch\", \"compose\", \"man\", \"anyone\", \"come\", \"atletico\", \"else\", \"wow\", \"wait\", \"transfer\", \"benzema\", \"buy\", \"life\", \"moment\", \"happened\", \"utd\", \"contract\", \"offside\", \"griezmann\", \"talking\", \"pay\", \"shirt\", \"sell\", \"neymar\", \"bench\", \"assist\", \"signed\", \"bet\", \"price\", \"double\", \"cross\", \"cut\", \"k\", \"r\", \"soccer\", \"post\", \"least\", \"please\", \"must\", \"removed\", \"thread\", \"contact\", \"action\", \"questions\", \"subreddit\", \"performed\", \"question\", \"automatically\", \"concerns\", \"moderators\", \"automoderator\", \"comment\", \"month\", \"ask\", \"use\", \"karma\", \"account\", \"read\", \"alves\", \"wiki\", \"check\", \"link\", \"create\", \"sport\", \"compose\", \"message\", \"bot\", \"old\", \"want\", \"oh\", \"god\", \"damn\", \"name\", \"brilliant\", \"beautiful\", \"incredible\", \"mbappe\", \"buffon\", \"gone\", \"live\", \"klopp\", \"torres\", \"pls\", \"cool\", \"zlatan\", \"valencia\", \"explain\", \"boy\", \"kane\", \"sound\", \"giroud\", \"son\", \"business\", \"exciting\", \"greatest\", \"defenders\", \"lucky\", \"truly\", \"aguero\"], \"Total\": [7744.0, 5055.0, 5951.0, 4514.0, 4023.0, 3755.0, 3428.0, 3335.0, 9143.0, 2956.0, 3455.0, 2557.0, 3254.0, 3217.0, 2702.0, 3066.0, 6605.0, 2939.0, 2918.0, 6688.0, 2105.0, 6519.0, 2102.0, 1966.0, 1955.0, 6060.0, 2591.0, 1990.0, 2022.0, 2452.0, 9143.081219943871, 6688.783411715092, 6519.502255176037, 6060.330543251632, 5199.737985379796, 4817.890886596699, 4450.165275312411, 4333.424749139287, 4324.572579107197, 4214.59411535604, 4056.0910011192054, 3999.254525151736, 3968.473668455143, 3923.0780071066592, 3772.4748000809336, 3737.43340517924, 3631.987671804368, 3473.3486008969417, 3226.5745200512188, 3124.6606971046926, 3090.1095430319656, 3076.7663247445353, 2924.8539640484837, 2930.8306204393775, 2873.176982347131, 2744.4729755767817, 2717.1456223850205, 2849.8421317660795, 2618.5972760053437, 2986.9025216069267, 5671.591374292328, 4800.45581908522, 6605.610106510055, 3984.433858733537, 7744.136783266819, 5951.045533937086, 3455.7179191854802, 3254.6970935489626, 3066.8841293988417, 2939.8738326685157, 2918.889227368849, 3217.249838622656, 2591.1470787116036, 2452.7481364426167, 2355.084026881861, 2196.8688778496107, 1927.124929513243, 1882.4942805670355, 1784.5327617065773, 1595.1818053475681, 1591.3484709240608, 1359.3289138637601, 1335.3671622564743, 1100.42985744352, 1019.5834562112144, 1008.3145507358089, 968.0306638086097, 969.6044326138525, 950.3599704967523, 933.0447639446317, 897.1262608441523, 867.981608653812, 796.5013847891177, 801.1551520250375, 2517.9866509699336, 1554.136431489351, 2702.043934940528, 2062.1671853287894, 1620.9644395600478, 1407.9945117792386, 1303.5901997338292, 1175.5328661410194, 1137.980650249573, 1129.372210265937, 1059.325608304156, 1013.9815335264555, 960.3066136688782, 922.8596869422505, 862.8145148262732, 819.4949714183086, 816.8028849175198, 795.1693506276639, 703.706109795731, 667.4858830086722, 648.4557030656813, 556.8581686408562, 543.0648064380831, 541.5658565332062, 510.61154497253654, 507.59272336936573, 503.46087852836547, 501.348315130899, 499.6214360436803, 482.49464145391744, 473.85430083804977, 473.76170450155564, 4023.6826230726133, 3755.0376720947547, 3335.0391910627827, 2022.8561414191367, 1206.5367903229796, 1001.4695852959976, 995.4119985339584, 947.1161734655639, 792.6024761338165, 763.8026425219293, 752.2383149790682, 726.2039943064101, 726.3886774180936, 712.1941763389043, 700.6229048154901, 662.6905036326767, 644.7254770706152, 635.2377080034164, 627.9948174587024, 620.0246160174628, 575.7115980566513, 559.4542101007721, 521.420758407852, 502.1604652785424, 473.0705986149315, 466.71343480090326, 465.1111612805622, 459.73422942895724, 451.62002235883705, 435.00604538214776, 676.5376564357726, 663.1818308499151, 633.8443712205069, 607.7947739978588, 555.0832289475345, 470.731596290933, 465.0364383517487, 460.3716260593547, 436.0649241960394, 423.32637138870507, 405.9468605560811, 400.6809049637172, 395.61236292670685, 388.91041944440985, 370.8253284056663, 373.0913131071513, 368.16912065964294, 348.26440626189554, 348.4355906665527, 346.4151846768977, 338.3613832637785, 337.293295087433, 325.3557793451284, 318.68534288873474, 320.5180573766102, 316.8751108266085, 317.0994661959521, 310.9725846678453, 312.97082877054027, 309.6667867925892, 1097.1464687160365, 850.7583382972916, 792.3859656092014, 752.1628817051312, 706.7450260503696, 672.9394487891095, 638.6171388158717, 624.5562990643393, 626.8570909685623, 600.9600474857295, 579.407855969322, 575.1475959805625, 574.4106362635401, 549.6940347591366, 539.6270111541181, 508.1041260604354, 511.216877057719, 501.44530434060175, 484.9592726384354, 483.10869784167966, 476.7525696471258, 464.91716773090394, 450.0283214694356, 448.0095982969817, 440.8976528634127, 427.54221235204864, 416.8482834662468, 390.98880973344285, 384.23950862283885, 384.0820864236381, 923.6121749524665, 5055.2395783521215, 4514.215009121803, 2102.357835485755, 1990.14874272124, 1291.9205032431805, 1263.5605024245422, 1243.033374608, 1118.8408659977702, 987.1456304458454, 929.4362728791813, 864.7566585306403, 675.8760470794055, 659.386769356705, 601.3991702961242, 562.5551791237253, 533.8154843929126, 531.2907849540845, 488.68148443290585, 476.7198899625797, 471.75873686907113, 451.77211781029985, 447.14097107514783, 446.6433073702518, 441.41204617663385, 417.4145221001761, 411.68437995604506, 384.1116869834257, 373.7064102876003, 355.53317885611364, 348.0725323843466, 790.216320216423, 1871.409963787271, 1768.1509347379056, 1412.762435988278, 1554.136431489351, 564.3961694738884, 2075.2572798158712, 1209.2296454621273, 2956.051172109145, 1737.1582672286268, 1744.5058493160027, 853.3799279227017, 781.6839349905601, 742.8350442481732, 740.1978517525533, 718.1531090564653, 692.0688667292103, 655.8897529464003, 606.8305752757374, 600.109719683409, 595.150196333323, 566.4774002260012, 534.2549867328524, 532.7164437532996, 459.1055466018077, 442.85110045618467, 414.03769253902306, 389.97228048421505, 385.68721001788526, 378.6261606702614, 368.5683167071711, 360.5029974486248, 347.4106439381684, 335.2399348022236, 313.0978625498367, 308.87965860408815, 297.7540915491893, 293.0392376403792, 539.1535621679166, 3428.096183273558, 2557.191972714476, 2105.1503689513524, 1966.9436857203104, 1955.0502518310843, 1772.964912463612, 1771.3232125211237, 884.5234423252621, 866.8454914773955, 839.469254357126, 809.7416911329435, 791.3703678051928, 785.7502483730553, 774.5570884067124, 761.1297054129776, 743.4780884267099, 738.1401062354844, 734.1913641462958, 674.1980552824826, 659.6855693463565, 651.2022583960985, 635.4916644444452, 598.699790778907, 542.0824867962125, 527.5926864015423, 508.74452892280584, 499.51498369442396, 465.51561009895886, 461.3926553463827, 436.0309631393508, 829.1798979183362, 1209.2296454621273, 1768.1509347379056, 1871.409963787271, 1451.8518505194425, 2633.647373760701, 1241.6009769328268, 1044.993550756011, 876.6090026576715, 726.485929927401, 559.1355495469872, 497.56410097988646, 484.7393598563014, 474.1679585425682, 445.1079856175133, 442.18009418953034, 417.5751880751011, 410.50991231150925, 400.1326442016468, 402.0940626168714, 380.34583281708467, 344.0935357418602, 343.44050631504575, 332.04266016713865, 329.0121535608499, 331.05910413580057, 322.45642980832207, 314.0398294223127, 296.55027994770995, 278.8466351151907, 269.3463234616918, 266.2098956453328, 254.4112010996556, 245.60716026521166, 239.84355712614692, 236.45226396404334], \"loglift\": [30.0, 29.0, 28.0, 27.0, 26.0, 25.0, 24.0, 23.0, 22.0, 21.0, 20.0, 19.0, 18.0, 17.0, 16.0, 15.0, 14.0, 13.0, 12.0, 11.0, 10.0, 9.0, 8.0, 7.0, 6.0, 5.0, 4.0, 3.0, 2.0, 1.0, 0.9325, 0.9324, 0.9324, 0.9324, 0.9324, 0.9324, 0.9324, 0.9324, 0.9324, 0.9324, 0.9324, 0.9324, 0.9324, 0.9324, 0.9324, 0.9324, 0.9324, 0.9324, 0.9324, 0.9324, 0.9324, 0.9324, 0.9324, 0.9324, 0.9324, 0.9324, 0.9324, 0.9324, 0.9324, 0.9324, 0.8845, 0.8886, 0.8524, 0.8719, 2.1688, 2.1688, 2.1688, 2.1688, 2.1687, 2.1687, 2.1687, 2.1687, 2.1687, 2.1687, 2.1687, 2.1687, 2.1687, 2.1687, 2.1687, 2.1687, 2.1687, 2.1686, 2.1686, 2.1686, 2.1686, 2.1686, 2.1686, 2.1686, 2.1686, 2.1685, 2.1685, 2.1685, 2.1685, 2.1685, 1.1395, 1.5237, 2.5775, 2.5775, 2.5775, 2.5774, 2.5774, 2.5774, 2.5774, 2.5774, 2.5774, 2.5774, 2.5773, 2.5773, 2.5773, 2.5773, 2.5773, 2.5773, 2.5772, 2.5772, 2.5772, 2.5771, 2.5771, 2.5771, 2.5771, 2.5771, 2.5771, 2.5771, 2.5771, 2.5771, 2.5771, 2.5771, 2.683, 2.683, 2.683, 2.6829, 2.6828, 2.6828, 2.6828, 2.6828, 2.6827, 2.6827, 2.6827, 2.6827, 2.6827, 2.6827, 2.6827, 2.6827, 2.6826, 2.6826, 2.6826, 2.6826, 2.6826, 2.6826, 2.6825, 2.6825, 2.6825, 2.6825, 2.6825, 2.6825, 2.6825, 2.6825, 2.7102, 2.7102, 2.7102, 2.7102, 2.7101, 2.71, 2.71, 2.71, 2.71, 2.71, 2.71, 2.7099, 2.7099, 2.7099, 2.7099, 2.7099, 2.7099, 2.7099, 2.7099, 2.7099, 2.7098, 2.7098, 2.7098, 2.7098, 2.7098, 2.7098, 2.7098, 2.7098, 2.7098, 2.7098, 2.7514, 2.7513, 2.7513, 2.7512, 2.7512, 2.7512, 2.7512, 2.7512, 2.7512, 2.7512, 2.7511, 2.7511, 2.7511, 2.7511, 2.7511, 2.7511, 2.7511, 2.7511, 2.751, 2.751, 2.751, 2.751, 2.751, 2.751, 2.751, 2.751, 2.751, 2.7509, 2.7509, 2.7509, 2.6255, 2.8178, 2.8178, 2.8177, 2.8177, 2.8176, 2.8176, 2.8176, 2.8176, 2.8176, 2.8176, 2.8175, 2.8175, 2.8174, 2.8174, 2.8174, 2.8173, 2.8173, 2.8173, 2.8173, 2.8173, 2.8173, 2.8172, 2.8172, 2.8172, 2.8172, 2.8172, 2.8172, 2.8171, 2.8171, 2.8171, 2.728, 2.2994, 2.2635, 2.2925, 2.0735, 2.6086, 1.6217, 1.865, 2.8514, 2.8514, 2.8514, 2.8512, 2.8512, 2.8512, 2.8512, 2.8511, 2.8511, 2.8511, 2.8511, 2.8511, 2.8511, 2.851, 2.851, 2.851, 2.8509, 2.8509, 2.8509, 2.8508, 2.8508, 2.8508, 2.8508, 2.8508, 2.8508, 2.8507, 2.8507, 2.8507, 2.8506, 2.8506, 2.4908, 2.905, 2.905, 2.905, 2.9049, 2.9049, 2.9049, 2.9049, 2.9048, 2.9048, 2.9048, 2.9047, 2.9047, 2.9047, 2.9047, 2.9047, 2.9047, 2.9047, 2.9047, 2.9047, 2.9047, 2.9047, 2.9047, 2.9046, 2.9046, 2.9046, 2.9045, 2.9045, 2.9045, 2.9045, 2.9045, 2.631, 2.4171, 2.0499, 1.9993, 2.1347, 1.4981, 3.0952, 3.0952, 3.0951, 3.0951, 3.095, 3.0949, 3.0949, 3.0949, 3.0948, 3.0948, 3.0948, 3.0948, 3.0948, 3.0948, 3.0947, 3.0947, 3.0947, 3.0947, 3.0946, 3.0946, 3.0946, 3.0946, 3.0945, 3.0945, 3.0945, 3.0944, 3.0944, 3.0944, 3.0943, 3.0943], \"logprob\": [30.0, 29.0, 28.0, 27.0, 26.0, 25.0, 24.0, 23.0, 22.0, 21.0, 20.0, 19.0, 18.0, 17.0, 16.0, 15.0, 14.0, 13.0, 12.0, 11.0, 10.0, 9.0, 8.0, 7.0, 6.0, 5.0, 4.0, 3.0, 2.0, 1.0, -3.8992, -4.2117, -4.2374, -4.3104, -4.4636, -4.5399, -4.6193, -4.6458, -4.6479, -4.6737, -4.712, -4.7261, -4.7338, -4.7453, -4.7845, -4.7938, -4.8224, -4.8671, -4.9408, -4.9729, -4.984, -4.9883, -5.039, -5.0369, -5.0568, -5.1027, -5.1127, -5.065, -5.1496, -5.018, -4.4247, -4.5873, -4.3043, -4.7904, -2.8289, -3.0923, -3.6358, -3.6958, -3.7552, -3.7975, -3.8047, -3.7073, -3.9238, -3.9787, -4.0193, -4.0889, -4.2199, -4.2433, -4.2968, -4.409, -4.4114, -4.569, -4.5868, -4.7803, -4.8567, -4.8678, -4.9086, -4.9069, -4.927, -4.9454, -4.9846, -5.0177, -5.1036, -5.0978, -4.9816, -5.08, -3.4731, -3.7434, -3.9841, -4.125, -4.2021, -4.3055, -4.338, -4.3456, -4.4096, -4.4534, -4.5078, -4.5476, -4.6149, -4.6664, -4.6697, -4.6965, -4.8188, -4.8716, -4.9006, -5.0529, -5.078, -5.0808, -5.1397, -5.1456, -5.1538, -5.158, -5.1614, -5.1963, -5.2144, -5.2146, -2.9694, -3.0385, -3.1572, -3.6572, -4.174, -4.3604, -4.3664, -4.4162, -4.5943, -4.6314, -4.6466, -4.6819, -4.6816, -4.7013, -4.7177, -4.7734, -4.8009, -4.8157, -4.8272, -4.84, -4.9142, -4.9428, -5.0133, -5.0509, -5.1106, -5.1242, -5.1276, -5.1392, -5.1571, -5.1946, -4.7252, -4.7451, -4.7904, -4.8324, -4.9231, -5.088, -5.1002, -5.1103, -5.1646, -5.1942, -5.2362, -5.2493, -5.262, -5.2791, -5.3267, -5.3207, -5.3339, -5.3895, -5.3891, -5.3949, -5.4184, -5.4216, -5.4576, -5.4784, -5.4727, -5.4841, -5.4834, -5.5029, -5.4965, -5.5071, -4.2006, -4.455, -4.5261, -4.5782, -4.6405, -4.6895, -4.7419, -4.7642, -4.7605, -4.8027, -4.8392, -4.8466, -4.8479, -4.8919, -4.9104, -4.9706, -4.9645, -4.9838, -5.0173, -5.0211, -5.0343, -5.0595, -5.0921, -5.0966, -5.1126, -5.1433, -5.1687, -5.2328, -5.2502, -5.2506, -4.4986, -2.6064, -2.7196, -3.4838, -3.5387, -3.9708, -3.993, -4.0094, -4.1147, -4.24, -4.3002, -4.3724, -4.6189, -4.6436, -4.7357, -4.8025, -4.855, -4.8597, -4.9434, -4.9682, -4.9786, -5.0219, -5.0323, -5.0334, -5.0452, -5.1011, -5.1149, -5.1843, -5.2118, -5.2617, -5.2829, -4.552, -4.1185, -4.2112, -4.4066, -4.5302, -5.0081, -4.6928, -4.9896, -3.1093, -3.641, -3.6368, -4.352, -4.4397, -4.4907, -4.4943, -4.5245, -4.5616, -4.6153, -4.693, -4.7042, -4.7125, -4.7619, -4.8205, -4.8234, -4.9722, -5.0082, -5.0755, -5.1355, -5.1465, -5.165, -5.192, -5.2141, -5.2511, -5.2868, -5.3552, -5.3688, -5.4055, -5.4215, -5.1716, -2.9076, -3.2007, -3.3953, -3.4632, -3.4693, -3.567, -3.568, -4.2626, -4.2827, -4.3148, -4.3509, -4.3739, -4.381, -4.3954, -4.4128, -4.4363, -4.4435, -4.4489, -4.5342, -4.5559, -4.5689, -4.5933, -4.653, -4.7524, -4.7795, -4.8159, -4.8342, -4.9047, -4.9136, -4.9702, -4.601, -4.4376, -4.4247, -4.4186, -4.5371, -4.5781, -3.733, -3.9054, -4.0812, -4.2691, -4.531, -4.6477, -4.6739, -4.6959, -4.7592, -4.7658, -4.8231, -4.8402, -4.8658, -4.8609, -4.9166, -5.0168, -5.0187, -5.0525, -5.0616, -5.0554, -5.0818, -5.1083, -5.1656, -5.2272, -5.2619, -5.2736, -5.319, -5.3543, -5.3781, -5.3923]}, \"token.table\": {\"Topic\": [9, 9, 10, 3, 9, 5, 5, 8, 2, 5, 9, 8, 8, 9, 9, 5, 7, 1, 4, 3, 3, 3, 10, 3, 8, 8, 1, 8, 1, 7, 9, 10, 10, 10, 5, 10, 8, 7, 4, 4, 2, 3, 9, 2, 2, 2, 1, 3, 7, 8, 9, 7, 7, 9, 9, 9, 8, 10, 6, 1, 3, 9, 7, 8, 4, 2, 8, 10, 5, 6, 7, 3, 6, 10, 6, 6, 3, 4, 3, 3, 8, 7, 8, 3, 7, 2, 2, 1, 10, 10, 7, 4, 1, 6, 7, 2, 2, 6, 1, 1, 5, 6, 6, 4, 7, 4, 6, 1, 1, 2, 1, 10, 1, 1, 7, 10, 1, 10, 1, 1, 1, 10, 8, 3, 4, 6, 8, 5, 4, 6, 6, 4, 5, 6, 7, 7, 7, 5, 7, 10, 7, 5, 5, 3, 6, 6, 7, 3, 3, 7, 8, 10, 9, 10, 1, 7, 4, 6, 2, 2, 9, 1, 7, 4, 4, 8, 4, 1, 9, 10, 2, 4, 6, 2, 10, 3, 8, 2, 10, 3, 5, 7, 7, 9, 3, 7, 4, 9, 8, 6, 9, 2, 1, 9, 7, 10, 5, 5, 2, 8, 3, 5, 8, 10, 1, 9, 1, 9, 5, 4, 5, 4, 8, 4, 3, 5, 9, 5, 2, 1, 1, 1, 3, 9, 10, 7, 2, 6, 7, 9, 5, 3, 8, 3, 6, 9, 9, 9, 9, 3, 1, 4, 7, 4, 9, 1, 4, 6, 4, 6, 3, 2, 1, 8, 8, 4, 4, 8, 6, 6, 5, 9, 10, 6, 10, 3, 5, 9, 5, 2, 5, 6, 5, 5, 6, 1, 4, 5, 7, 3, 7, 9, 7, 5, 8, 1, 2, 2, 2, 4, 6, 1, 9, 1, 2, 2, 10, 5, 8, 10, 5, 7, 7, 7, 2, 1, 9, 8, 7, 10, 5, 2, 7, 8, 1, 9, 1, 7, 1, 2, 6, 9, 2, 2, 5, 1, 8, 4, 7, 2, 4, 3, 6, 7, 9, 10], \"Freq\": [0.9998478334972598, 0.9994410106687166, 0.9980872927310516, 1.0002413251545996, 0.9985365367478599, 1.0002303372476318, 0.9995406440949205, 0.9999088930285671, 1.0000377812125498, 1.000245531531965, 0.9996894077170484, 0.998604734351213, 0.9995547962750583, 0.9998295882921726, 0.9997393538583523, 1.0000881599649178, 0.9993362639726828, 0.9998996354996295, 1.000071116565295, 1.0001520415939007, 1.0000182118440366, 0.9996926267980274, 0.9988662747598238, 0.9996807127385005, 0.9984580424268463, 0.9999004915081128, 0.99975093176938, 0.9992842893184395, 0.9997885539683381, 0.5952730943814895, 0.4039734823630216, 0.9999630604501433, 0.9997575730123097, 0.9997573945626622, 1.0000932075029942, 1.0005499972583352, 1.0001680877816803, 1.000345654280331, 0.9997273547785767, 0.9997190950366434, 0.999725047712081, 0.9989551473262578, 0.9988923892394301, 1.0000596859246864, 0.9997374331640005, 0.9997580321727836, 1.000055395431263, 0.9995467024730932, 0.9999526079133524, 0.9997100328920072, 0.9997062357553084, 0.999125004100083, 0.38536931487642306, 0.6136138017989398, 0.9993569569377336, 1.000178242286686, 0.9995227246554838, 0.9990907411433347, 0.9987374162438553, 1.000057792340315, 0.9988322855272013, 0.9999289886683096, 0.9996847278950778, 0.9974674015552034, 0.9991930539759546, 0.9997014559115923, 0.999866101069962, 0.9993052744657822, 0.9987498674698546, 0.8813222931387759, 0.11801490166108915, 1.000254699252217, 0.9997750033436258, 0.9983837146404, 0.9999785756889624, 0.9997950694452282, 0.9998806653693725, 0.9984029263388344, 1.0000219378285446, 0.998756186186483, 1.0003896060894903, 0.9994134408291474, 0.9991250491919494, 0.9992972487349145, 0.9982909130956504, 0.9998063396027033, 0.9993705161112175, 0.9998741409535927, 0.9987142075776615, 0.9998715220293767, 0.9985003400868828, 0.9999861027629111, 1.000032635277639, 1.0000664811486848, 1.000183395936474, 0.9999643210684197, 0.9999520237973981, 1.0003639610375545, 0.9999384018637841, 0.9411625673695956, 0.05872854420386276, 0.9997433772103126, 0.9987317922385588, 0.9999899675854027, 0.9983376100980121, 0.9998303486789194, 1.0001781656493787, 0.9998580725832973, 0.6425768775925572, 0.357428423877195, 0.9999229611162972, 0.9998731707936984, 0.9998219411801437, 0.9569924551196968, 0.04291259158786625, 1.0000061715634363, 0.9999775643299965, 0.9995927130327736, 0.9999454578839764, 0.9999464061168379, 0.9999801158410518, 0.9992115407850487, 0.9997701038408511, 1.0002149768815192, 0.999761000617022, 0.999575763110625, 0.9997476328929262, 0.9991304449519016, 0.9995861025037219, 0.9984214670354418, 1.0000839809935853, 0.999239876038799, 1.0003941274310428, 0.9999370673620205, 1.000142231131402, 0.9999523706510726, 0.9997916170407078, 0.99985006041762, 0.9990131117011666, 0.9984747270027328, 0.9981097185701026, 0.9999216440933578, 1.0004710346919523, 0.9992720699852375, 1.0002321335482796, 0.998945834745335, 0.9983916845417498, 0.9996704272846865, 0.9989965842474553, 0.3023257406379419, 0.6973894385267861, 0.9998214695350099, 0.9988311491173288, 0.9987578562752893, 1.0000499293138432, 0.9997092330506712, 0.9989580299870127, 0.9988380656617297, 0.9999223440406595, 0.9999923485819717, 1.0000286303467143, 0.4084196927251734, 0.5910406298535872, 0.9986271149901667, 0.9996831921821547, 1.000279196090582, 0.9996257967680107, 0.9999911167863527, 0.9991489779002054, 0.9986225520779801, 0.9997810216112764, 0.9991881192552107, 0.9991086325421042, 1.0000211886358013, 0.997527921154432, 0.9999189273643869, 0.9999826890313578, 0.9993766193784582, 0.9996457825976169, 0.9997870257102713, 0.18781133844124015, 0.8114867264725282, 0.5746115787058657, 0.42530305825473524, 0.9988023283481194, 1.0000615337837118, 0.9988747504225962, 0.999810190187065, 0.9998171672948958, 0.99986650030765, 0.9989607634633636, 0.9996880430461116, 1.0000033943385127, 1.0000197903162895, 0.9994526821049424, 0.9993311227273878, 0.9992290312846931, 1.00033765674027, 0.9997922517976672, 0.9983462297767461, 1.0000038978992571, 0.9983836873939321, 0.9986551123741332, 0.9995159661243893, 0.5365561229413938, 0.4628571432819212, 0.9230033110781392, 0.07690432705063059, 0.9983006303637583, 0.9984713643368599, 0.9997552526581474, 0.9994649181214179, 0.9999089635081485, 0.9998773397933447, 0.9990845792632138, 0.9978467603855888, 0.9990451821369337, 0.9992407887307992, 0.9996212272108176, 0.9999363568509744, 0.9998840366817937, 0.9998590337907333, 0.9993052432403048, 0.9999742963992678, 0.9997660681277928, 0.9984899099497689, 0.9999683235151984, 1.0002279770517024, 0.9998524731900199, 0.9999285709213127, 0.9984521137757763, 1.000017003584747, 0.9996874378220288, 0.9983922201935739, 0.9992960813956524, 0.9992807652075609, 0.9990840398350914, 0.9999719426560937, 0.9988766212708808, 0.9999837401087526, 1.0000226475455485, 0.9995311037869824, 0.9995564102997311, 0.9995550982553661, 0.9998175304660161, 0.9997719099417017, 0.9999602983223136, 0.9991092891622857, 0.9996804501954303, 0.9991119582998442, 0.9995472505593017, 0.9999823371835174, 0.9999628608597241, 0.9982182193237535, 1.0000710807336115, 0.9999882486949815, 1.000008252522399, 0.9988179868828616, 0.9990336325501442, 1.0000899801772647, 0.9988014824543995, 0.9999249283133514, 0.9981443957908015, 1.0000286204266684, 0.9985845225397013, 1.0003074767110747, 0.2387901594057946, 0.7597868708366192, 0.9989319606738433, 0.9998592607867332, 0.9997258205194162, 0.9992851172356221, 0.9989064913927624, 0.9984458313469979, 0.9997834488923969, 0.9999645504373097, 1.0002583880535147, 1.0001309024630616, 0.9998297932541668, 0.9989748249795544, 0.9986054629556986, 0.9995319918204418, 0.9985596842947463, 0.9991927694099315, 1.0003362293639149, 0.9531716308942538, 0.04672409955363989, 0.9996949803237026, 0.9999351731113382, 0.9998507651603414, 0.9997862789582237, 0.9998675986824771, 0.9994082210824328, 0.9999019830356183, 0.9994277504135046, 0.9999432379918485, 0.9996684994249557, 0.9998511134639891, 0.9997868016519953, 1.0006522704871776, 0.9996863249341118, 0.9990069293754072, 0.9990665271140585, 0.9999731506742443, 1.0000429159000235, 0.9998276625126242, 0.999226324321854, 0.9991572475339514, 0.9995306048495075, 0.9987173722757046, 0.9992052823214524, 0.5244069847966784, 0.4748617850060719, 0.9997327042329495, 0.7548466889708348, 0.24490750220633223, 0.6972629437678137, 0.30213121336725585, 0.9998806421574853, 0.9998860284470656, 0.9995129070605072, 0.998969032539094, 0.9997858192240549, 0.9996093731548519, 0.9978494684364131, 0.9998828768003281, 1.0002220624257083, 0.9987639678285911, 0.99992526050036, 1.0000379502689285, 0.9991109271318298, 0.999396004325137, 0.9993766684126334, 0.9136738656603042, 0.08478690997124706, 0.9997281676865608], \"Term\": [\"account\", \"action\", \"aguero\", \"almost\", \"alves\", \"american\", \"amount\", \"anyone\", \"arsenal\", \"article\", \"ask\", \"assist\", \"atletico\", \"automatically\", \"automoderator\", \"average\", \"b\", \"back\", \"ball\", \"barca\", \"barcelona\", \"bayern\", \"beautiful\", \"believe\", \"bench\", \"benzema\", \"best\", \"bet\", \"better\", \"bot\", \"bot\", \"boy\", \"brilliant\", \"buffon\", \"bundesliga\", \"business\", \"buy\", \"c\", \"call\", \"card\", \"champions\", \"chances\", \"check\", \"chelsea\", \"city\", \"cl\", \"club\", \"clubs\", \"com\", \"come\", \"comment\", \"comments\", \"compose\", \"compose\", \"concerns\", \"contact\", \"contract\", \"cool\", \"costa\", \"could\", \"course\", \"create\", \"creator\", \"cross\", \"cunt\", \"cup\", \"cut\", \"damn\", \"david\", \"de\", \"de\", \"deal\", \"decent\", \"defenders\", \"defending\", \"defense\", \"deserved\", \"dive\", \"done\", \"dont\", \"double\", \"e\", \"else\", \"england\", \"erody\", \"europa\", \"europe\", \"even\", \"exciting\", \"explain\", \"f\", \"fabregas\", \"fans\", \"fantastic\", \"feedback\", \"final\", \"finish\", \"finishing\", \"first\", \"football\", \"football\", \"forward\", \"front\", \"fuck\", \"fucked\", \"fucking\", \"fun\", \"game\", \"games\", \"games\", \"get\", \"giroud\", \"go\", \"goal\", \"goal\", \"god\", \"going\", \"gone\", \"good\", \"got\", \"great\", \"greatest\", \"griezmann\", \"guys\", \"haha\", \"ham\", \"happened\", \"heard\", \"hell\", \"help\", \"higuain\", \"holy\", \"honest\", \"hoping\", \"http\", \"https\", \"huddersfield\", \"hull\", \"imgur\", \"incredible\", \"injury\", \"insane\", \"interested\", \"interesting\", \"isco\", \"jesus\", \"jpg\", \"juve\", \"juventus\", \"k\", \"k\", \"kane\", \"karma\", \"klopp\", \"know\", \"l\", \"la\", \"lads\", \"last\", \"league\", \"least\", \"leave\", \"leave\", \"leg\", \"legend\", \"life\", \"liga\", \"like\", \"link\", \"live\", \"liverpool\", \"lmao\", \"looking\", \"lose\", \"lucky\", \"madrid\", \"man\", \"manchester\", \"mbappe\", \"mean\", \"media\", \"media\", \"message\", \"message\", \"milan\", \"mirror\", \"miss\", \"moderators\", \"moment\", \"monaco\", \"month\", \"mourinho\", \"much\", \"must\", \"n\", \"name\", \"near\", \"news\", \"next\", \"neymar\", \"nice\", \"night\", \"offside\", \"oh\", \"old\", \"old\", \"one\", \"one\", \"op\", \"ozil\", \"palace\", \"pass\", \"pay\", \"penalty\", \"pep\", \"per\", \"performed\", \"picture\", \"place\", \"play\", \"player\", \"players\", \"plays\", \"please\", \"pls\", \"pm\", \"points\", \"poor\", \"possible\", \"post\", \"prem\", \"premier\", \"price\", \"psg\", \"quality\", \"question\", \"questions\", \"r\", \"read\", \"real\", \"really\", \"red\", \"reddit\", \"ref\", \"removed\", \"right\", \"rooney\", \"sad\", \"sanchez\", \"save\", \"score\", \"season\", \"see\", \"sell\", \"shirt\", \"shit\", \"shot\", \"signed\", \"signing\", \"silva\", \"sky\", \"soccer\", \"son\", \"sort\", \"sound\", \"spain\", \"sport\", \"sport\", \"sports\", \"spurs\", \"stadium\", \"starting\", \"stat\", \"stats\", \"stay\", \"still\", \"stop\", \"story\", \"streamable\", \"stuff\", \"subject\", \"subreddit\", \"suggestions\", \"surprised\", \"talking\", \"team\", \"team\", \"teams\", \"th\", \"thank\", \"thats\", \"think\", \"thread\", \"time\", \"title\", \"top\", \"torres\", \"totti\", \"transfer\", \"truly\", \"tv\", \"twitter\", \"twittertostreamable\", \"u\", \"united\", \"us\", \"use\", \"utd\", \"v\", \"valencia\", \"video\", \"vs\", \"vs\", \"wait\", \"want\", \"want\", \"watch\", \"watch\", \"well\", \"wenger\", \"west\", \"wiki\", \"win\", \"winning\", \"word\", \"would\", \"wow\", \"wtf\", \"www\", \"year\", \"yellow\", \"yes\", \"youth\", \"youtube\", \"youtube\", \"zlatan\"]}, \"R\": 30, \"lambda.step\": 0.01, \"plot.opts\": {\"xlab\": \"PC1\", \"ylab\": \"PC2\"}, \"topic.order\": [8, 2, 9, 5, 3, 10, 6, 7, 1, 4]};\n",
       "\n",
       "function LDAvis_load_lib(url, callback){\n",
       "  var s = document.createElement('script');\n",
       "  s.src = url;\n",
       "  s.async = true;\n",
       "  s.onreadystatechange = s.onload = callback;\n",
       "  s.onerror = function(){console.warn(\"failed to load library \" + url);};\n",
       "  document.getElementsByTagName(\"head\")[0].appendChild(s);\n",
       "}\n",
       "\n",
       "if(typeof(LDAvis) !== \"undefined\"){\n",
       "   // already loaded: just create the visualization\n",
       "   !function(LDAvis){\n",
       "       new LDAvis(\"#\" + \"ldavis_el104824055970092649231637255\", ldavis_el104824055970092649231637255_data);\n",
       "   }(LDAvis);\n",
       "}else if(typeof define === \"function\" && define.amd){\n",
       "   // require.js is available: use it to load d3/LDAvis\n",
       "   require.config({paths: {d3: \"https://cdnjs.cloudflare.com/ajax/libs/d3/3.5.5/d3.min\"}});\n",
       "   require([\"d3\"], function(d3){\n",
       "      window.d3 = d3;\n",
       "      LDAvis_load_lib(\"https://cdn.rawgit.com/bmabey/pyLDAvis/files/ldavis.v1.0.0.js\", function(){\n",
       "        new LDAvis(\"#\" + \"ldavis_el104824055970092649231637255\", ldavis_el104824055970092649231637255_data);\n",
       "      });\n",
       "    });\n",
       "}else{\n",
       "    // require.js not available: dynamically load d3 & LDAvis\n",
       "    LDAvis_load_lib(\"https://cdnjs.cloudflare.com/ajax/libs/d3/3.5.5/d3.min.js\", function(){\n",
       "         LDAvis_load_lib(\"https://cdn.rawgit.com/bmabey/pyLDAvis/files/ldavis.v1.0.0.js\", function(){\n",
       "                 new LDAvis(\"#\" + \"ldavis_el104824055970092649231637255\", ldavis_el104824055970092649231637255_data);\n",
       "            })\n",
       "         });\n",
       "}\n",
       "</script>"
      ],
      "text/plain": [
       "<IPython.core.display.HTML object>"
      ]
     },
     "execution_count": 262,
     "metadata": {},
     "output_type": "execute_result"
    }
   ],
   "source": [
    "pyLDAvis.display(LDAvis_prepared)"
   ]
  },
  {
   "cell_type": "code",
   "execution_count": 6,
   "metadata": {
    "collapsed": false
   },
   "outputs": [
    {
     "data": {
      "text/html": [
       "\n",
       "<link rel=\"stylesheet\" type=\"text/css\" href=\"https://cdn.rawgit.com/bmabey/pyLDAvis/files/ldavis.v1.0.0.css\">\n",
       "\n",
       "\n",
       "<div id=\"ldavis_el897219715645306885948201994\"></div>\n",
       "<script type=\"text/javascript\">\n",
       "\n",
       "var ldavis_el897219715645306885948201994_data = {\"mdsDat\": {\"Freq\": [76.5719055457255, 11.728357376939718, 11.699737077334794], \"cluster\": [1, 1, 1], \"topics\": [1, 2, 3], \"x\": [-0.37574547672076275, 0.21500188558595987, 0.16074359113480255], \"y\": [-0.02939222155766368, -0.29062110604803604, 0.32001332760569984]}, \"tinfo\": {\"Category\": [\"Default\", \"Default\", \"Default\", \"Default\", \"Default\", \"Default\", \"Default\", \"Default\", \"Default\", \"Default\", \"Default\", \"Default\", \"Default\", \"Default\", \"Default\", \"Default\", \"Default\", \"Default\", \"Default\", \"Default\", \"Default\", \"Default\", \"Default\", \"Default\", \"Default\", \"Default\", \"Default\", \"Default\", \"Default\", \"Default\", \"Topic1\", \"Topic1\", \"Topic1\", \"Topic1\", \"Topic1\", \"Topic1\", \"Topic1\", \"Topic1\", \"Topic1\", \"Topic1\", \"Topic1\", \"Topic1\", \"Topic1\", \"Topic1\", \"Topic1\", \"Topic1\", \"Topic1\", \"Topic1\", \"Topic1\", \"Topic1\", \"Topic1\", \"Topic1\", \"Topic1\", \"Topic1\", \"Topic1\", \"Topic1\", \"Topic1\", \"Topic1\", \"Topic1\", \"Topic1\", \"Topic1\", \"Topic1\", \"Topic1\", \"Topic1\", \"Topic1\", \"Topic1\", \"Topic2\", \"Topic2\", \"Topic2\", \"Topic2\", \"Topic2\", \"Topic2\", \"Topic2\", \"Topic2\", \"Topic2\", \"Topic2\", \"Topic2\", \"Topic2\", \"Topic2\", \"Topic2\", \"Topic2\", \"Topic2\", \"Topic2\", \"Topic2\", \"Topic2\", \"Topic2\", \"Topic2\", \"Topic2\", \"Topic2\", \"Topic2\", \"Topic2\", \"Topic2\", \"Topic2\", \"Topic2\", \"Topic2\", \"Topic2\", \"Topic2\", \"Topic2\", \"Topic2\", \"Topic2\", \"Topic2\", \"Topic2\", \"Topic2\", \"Topic2\", \"Topic3\", \"Topic3\", \"Topic3\", \"Topic3\", \"Topic3\", \"Topic3\", \"Topic3\", \"Topic3\", \"Topic3\", \"Topic3\", \"Topic3\", \"Topic3\", \"Topic3\", \"Topic3\", \"Topic3\", \"Topic3\", \"Topic3\", \"Topic3\", \"Topic3\", \"Topic3\", \"Topic3\", \"Topic3\", \"Topic3\", \"Topic3\", \"Topic3\", \"Topic3\", \"Topic3\", \"Topic3\", \"Topic3\", \"Topic3\", \"Topic3\", \"Topic3\", \"Topic3\", \"Topic3\", \"Topic3\", \"Topic3\", \"Topic3\", \"Topic3\"], \"Freq\": [5660.0, 4891.0, 4518.0, 3425.0, 2684.0, 2514.0, 2272.0, 2228.0, 2148.0, 2026.0, 1932.0, 1678.0, 1609.0, 1470.0, 2113.0, 1449.0, 6826.0, 2018.0, 2232.0, 2616.0, 1524.0, 9862.0, 1404.0, 1109.0, 1105.0, 1058.0, 980.0, 1390.0, 943.0, 930.0, 7423.63711948824, 6523.377564311219, 6073.792684887547, 6098.110835010612, 5756.9194250526825, 6290.7628008040465, 5482.097188762889, 4535.022492146405, 4767.54517507423, 4815.8065182169175, 4589.1078386430445, 4233.0679271806475, 3918.366005073681, 4224.676842004722, 3873.849600835429, 3646.267946046071, 3894.1833531197067, 3916.0573815073144, 3276.088849350008, 3157.5921549581217, 4195.6870913293615, 3249.2248407789825, 3234.0265004323765, 3369.850481536834, 3138.3042315439297, 3131.4722263666913, 3094.7224589979573, 3339.914079449781, 3735.1210876997843, 3104.1519856349496, 9860.78875439895, 3841.0585779253856, 3468.3951714443474, 3215.529160957986, 5947.595101576161, 4433.9286507708875, 4517.799523408619, 3424.8301406467995, 2513.555181638679, 2271.6062801277976, 2227.5521884647696, 1932.0727825410545, 1678.4525178468566, 980.1188826804233, 942.726667685931, 929.7596519190513, 905.2129771190777, 863.6289273765548, 841.2785705966943, 833.5599115757632, 820.1920862287058, 803.8821718153752, 818.3490571512131, 787.4415459371778, 787.264436839336, 816.5602893835375, 835.2855015387959, 699.8614828782312, 734.6718964265344, 632.8267517676561, 618.8299894547216, 597.7095010015341, 572.7067677421418, 551.7748682164597, 582.8891116808684, 515.2644817340552, 2119.3778814839584, 893.5914986031074, 1038.2343561425619, 795.1920236286049, 816.5148106293708, 806.1106284297315, 840.2894537634302, 860.9290920772517, 4890.485696780097, 5659.532719546644, 2684.2760538710654, 2025.9552656963126, 1609.0097865081145, 1449.13578870153, 1470.349994171823, 1109.3713038623102, 1105.1875106771201, 1058.2074966996674, 802.7191010516808, 748.0091318583432, 713.3317044051382, 748.1523654926401, 654.5680289937349, 635.2192039698169, 607.4607066388951, 603.6548536363701, 573.8475291793685, 563.0243326614931, 556.0172926453636, 551.8081528324036, 560.1665978885021, 569.4036980857207, 520.6547471092628, 493.7282088939718, 507.51763167618236, 425.5293089300461, 424.4275978836444, 448.2484249785761, 429.2540298305607, 926.6591167267644, 1293.7036972299077, 1209.4714951995145, 937.0067333517125, 932.770444077115, 632.8164334360596, 592.9164778987019], \"Term\": [\"com\", \"https\", \"fuck\", \"r\", \"streamable\", \"soccer\", \"please\", \"post\", \"least\", \"www\", \"removed\", \"must\", \"mirror\", \"u\", \"bot\", \"http\", \"one\", \"message\", \"watch\", \"want\", \"old\", \"like\", \"leave\", \"reddit\", \"v\", \"possible\", \"legend\", \"compose\", \"yellow\", \"contact\", \"season\", \"would\", \"good\", \"game\", \"team\", \"get\", \"league\", \"play\", \"think\", \"really\", \"players\", \"even\", \"going\", \"see\", \"player\", \"win\", \"well\", \"great\", \"much\", \"next\", \"time\", \"still\", \"best\", \"united\", \"year\", \"first\", \"could\", \"go\", \"football\", \"last\", \"like\", \"fucking\", \"shit\", \"back\", \"one\", \"goal\", \"fuck\", \"r\", \"soccer\", \"please\", \"post\", \"removed\", \"must\", \"legend\", \"yellow\", \"contact\", \"action\", \"questions\", \"automatically\", \"subreddit\", \"performed\", \"concerns\", \"jesus\", \"automoderator\", \"moderators\", \"use\", \"thread\", \"lmao\", \"question\", \"wiki\", \"ask\", \"month\", \"account\", \"karma\", \"read\", \"faq\", \"least\", \"yes\", \"old\", \"compose\", \"bot\", \"message\", \"want\", \"one\", \"https\", \"com\", \"streamable\", \"www\", \"mirror\", \"http\", \"u\", \"reddit\", \"v\", \"possible\", \"e\", \"feedback\", \"b\", \"holy\", \"imgur\", \"n\", \"subject\", \"pm\", \"erody\", \"creator\", \"twittertostreamable\", \"suggestions\", \"c\", \"comments\", \"k\", \"f\", \"alves\", \"van\", \"jpg\", \"twitter\", \"media\", \"youtube\", \"bot\", \"message\", \"leave\", \"watch\", \"vs\", \"compose\"], \"Total\": [5660.0, 4891.0, 4518.0, 3425.0, 2684.0, 2514.0, 2272.0, 2228.0, 2148.0, 2026.0, 1932.0, 1678.0, 1609.0, 1470.0, 2113.0, 1449.0, 6826.0, 2018.0, 2232.0, 2616.0, 1524.0, 9862.0, 1404.0, 1109.0, 1105.0, 1058.0, 980.0, 1390.0, 943.0, 930.0, 7424.487962657654, 6524.2202863261955, 6074.622944475297, 6098.950163831992, 5757.713916372962, 6291.659393270383, 5482.887816040756, 4535.678051237277, 4768.235408408962, 4816.5253673832485, 4589.8134186984, 4233.732812013641, 3919.004986178178, 4225.366729184043, 3874.5035781870224, 3646.884871366768, 3894.846991642766, 3916.758986569829, 3276.687451858836, 3158.179651921083, 4196.4710344185605, 3249.8339975292897, 3234.636800976216, 3370.4899679873597, 3138.90554195667, 3132.077967343838, 3095.322295264448, 3340.5638569904627, 3735.848046060174, 3104.7584299168466, 9862.995250627571, 3841.8773100792087, 3469.1283316620065, 3216.1765324996177, 6826.18285182112, 4829.854989824305, 4518.558803389508, 3425.5110351352714, 2514.1069856346667, 2272.122829797664, 2228.0699162854353, 1932.547022456692, 1678.9364311370834, 980.5274082994493, 943.1418702562238, 930.1711720277153, 905.6203120609056, 864.0284825476892, 841.6747631149924, 833.9583285163467, 820.5893477713819, 804.2749359417934, 818.7537154304662, 787.8323701155525, 787.6553550051785, 816.9744906127336, 835.7108064149145, 700.2442006857444, 735.0838542282113, 633.2128981700104, 619.2136500356723, 598.0875048826471, 573.0755443416296, 552.1414913067881, 583.2795790212857, 515.6242945833784, 2148.2620459389473, 907.1528389840356, 1524.6833946476108, 1390.2953824707217, 2113.503887574969, 2018.7348985778754, 2616.6164676589606, 6826.18285182112, 4891.096393082512, 5660.2852348559945, 2684.7823782659584, 2026.4439330148934, 1609.463185298904, 1449.5877441000923, 1470.8332317684244, 1109.802764080243, 1105.6208700858542, 1058.6452594491059, 803.1183022333786, 748.39990650414, 713.7264404013492, 748.575353557825, 654.947675796344, 635.6083722461559, 607.8337295779653, 604.0284260934116, 574.2139991148514, 563.3925687234379, 556.3826037158935, 552.1754274234914, 560.5524856704697, 569.8039829105635, 521.0301365178988, 494.0925727709532, 507.89895290334795, 425.8834649306453, 424.7867074232665, 448.62928688026534, 429.6313141271744, 1058.0540066937797, 2113.503887574969, 2018.7348985778754, 1404.736171217988, 2232.171736341709, 1443.546553642259, 1390.2953824707217], \"loglift\": [30.0, 29.0, 28.0, 27.0, 26.0, 25.0, 24.0, 23.0, 22.0, 21.0, 20.0, 19.0, 18.0, 17.0, 16.0, 15.0, 14.0, 13.0, 12.0, 11.0, 10.0, 9.0, 8.0, 7.0, 6.0, 5.0, 4.0, 3.0, 2.0, 1.0, 0.2668, 0.2668, 0.2668, 0.2668, 0.2668, 0.2668, 0.2668, 0.2668, 0.2668, 0.2668, 0.2668, 0.2668, 0.2668, 0.2668, 0.2668, 0.2668, 0.2668, 0.2668, 0.2668, 0.2668, 0.2668, 0.2668, 0.2668, 0.2668, 0.2667, 0.2667, 0.2667, 0.2667, 0.2667, 0.2667, 0.2667, 0.2667, 0.2667, 0.2667, 0.1292, 0.1814, 2.143, 2.143, 2.1429, 2.1429, 2.1429, 2.1429, 2.1429, 2.1427, 2.1427, 2.1427, 2.1427, 2.1427, 2.1427, 2.1427, 2.1427, 2.1427, 2.1427, 2.1427, 2.1427, 2.1427, 2.1427, 2.1426, 2.1426, 2.1426, 2.1425, 2.1425, 2.1425, 2.1425, 2.1425, 2.1425, 2.1296, 2.1281, 1.7589, 1.5845, 1.1921, 1.2252, 1.0073, 0.0727, 2.1455, 2.1455, 2.1454, 2.1454, 2.1453, 2.1453, 2.1453, 2.1452, 2.1452, 2.1452, 2.1451, 2.1451, 2.1451, 2.145, 2.145, 2.145, 2.145, 2.145, 2.145, 2.1449, 2.1449, 2.1449, 2.1449, 2.1449, 2.1449, 2.1449, 2.1449, 2.1448, 2.1448, 2.1448, 2.1447, 2.013, 1.6548, 1.6333, 1.7407, 1.273, 1.3209, 1.2934], \"logprob\": [30.0, 29.0, 28.0, 27.0, 26.0, 25.0, 24.0, 23.0, 22.0, 21.0, 20.0, 19.0, 18.0, 17.0, 16.0, 15.0, 14.0, 13.0, 12.0, 11.0, 10.0, 9.0, 8.0, 7.0, 6.0, 5.0, 4.0, 3.0, 2.0, 1.0, -4.7746, -4.9039, -4.9753, -4.9713, -5.0288, -4.9402, -5.0778, -5.2674, -5.2174, -5.2073, -5.2556, -5.3363, -5.4136, -5.3383, -5.425, -5.4855, -5.4198, -5.4142, -5.5926, -5.6294, -5.3452, -5.6008, -5.6055, -5.5644, -5.6356, -5.6377, -5.6496, -5.5733, -5.4615, -5.6465, -4.4907, -5.4335, -5.5356, -5.6113, -4.9963, -5.29, -3.395, -3.672, -3.9813, -4.0825, -4.1021, -4.2444, -4.3852, -4.9231, -4.962, -4.9759, -5.0026, -5.0496, -5.0759, -5.0851, -5.1012, -5.1213, -5.1035, -5.142, -5.1422, -5.1057, -5.083, -5.2599, -5.2114, -5.3606, -5.383, -5.4177, -5.4604, -5.4976, -5.4428, -5.5661, -4.1519, -5.0155, -4.8655, -5.1322, -5.1057, -5.1186, -5.077, -5.0528, -3.3133, -3.1672, -3.9132, -4.1945, -4.425, -4.5296, -4.5151, -4.7968, -4.8006, -4.844, -5.1203, -5.1909, -5.2384, -5.1907, -5.3244, -5.3544, -5.3991, -5.4053, -5.456, -5.475, -5.4875, -5.4951, -5.4801, -5.4638, -5.5533, -5.6064, -5.5788, -5.755, -5.7576, -5.703, -5.7463, -4.9768, -4.6431, -4.7104, -4.9657, -4.9702, -5.3582, -5.4233]}, \"token.table\": {\"Topic\": [2, 2, 3, 2, 2, 2, 3, 1, 1, 1, 2, 3, 3, 3, 3, 1, 2, 3, 2, 2, 1, 3, 3, 3, 1, 3, 2, 3, 1, 1, 2, 1, 1, 1, 1, 1, 2, 3, 1, 1, 1, 3, 3, 3, 3, 2, 3, 3, 2, 1, 1, 1, 2, 3, 1, 2, 3, 2, 1, 2, 3, 2, 3, 1, 2, 3, 3, 2, 2, 1, 2, 3, 1, 1, 2, 3, 1, 2, 3, 2, 1, 1, 1, 2, 3, 3, 2, 2, 2, 2, 2, 1, 3, 2, 1, 1, 1, 2, 1, 3, 3, 2, 3, 1, 1, 2, 1, 3, 3, 3, 1, 2, 3, 3, 1, 2, 3, 1, 2, 3, 1, 2, 3, 1, 2, 1, 1, 3, 1, 2, 1, 2, 3, 1, 2, 3], \"Freq\": [0.9998681773417564, 0.999315041797711, 1.000198951181282, 0.9996549655588826, 0.999198308961415, 0.9989434679925243, 0.998982186507003, 0.9999451110665618, 0.9998031306092777, 0.0014194438049708036, 0.38656186288704886, 0.6122534278774067, 0.9990143908294175, 0.9999496076886306, 0.9985890184437519, 0.0014385432226968631, 0.5718209310220032, 0.4265280655296199, 0.9996581567701455, 0.9998159779265765, 0.9998958766701158, 0.9993032057126217, 0.9998526963797867, 0.9996273181859354, 0.9998269111334657, 0.9998126408368496, 0.9987892452121891, 0.9994656513173446, 0.999655829977709, 0.9997729977103677, 0.9998763314999709, 0.9997716454721479, 0.9998442086250144, 0.9998951956504372, 0.9998312090369765, 0.9180399845009207, 0.002484546642762979, 0.07950549256841533, 0.999743560882999, 0.9998974513346769, 0.9998062207625152, 0.9992314019489281, 0.9995945439643206, 0.9997758389951049, 1.0000798906623989, 0.9990794357127651, 0.9981479942533075, 0.9999421597412769, 0.9997437408544443, 0.9997557201521579, 0.9998380751037513, 0.01256829912860981, 0.9863787353157107, 0.00046549256031888186, 0.33031113564740416, 0.0028475097900638293, 0.667029168322452, 0.9994621177388973, 0.9997977033774356, 0.00010138907852930083, 0.00010138907852930083, 0.9996512635370557, 0.9985305677067395, 0.0014860792281905812, 0.3992599526405361, 0.5988899289608042, 0.9997122113117375, 0.9991679673082725, 0.9998536921739165, 0.9997901991358846, 0.9994422474134717, 0.9990428504835359, 0.9999431153572996, 0.31481945804947853, 0.6807970780319973, 0.003935243225618481, 0.8713508162784075, 0.12613198601474593, 0.0026369056309702983, 0.9992817993884731, 0.9998505071943781, 0.9998700276882289, 0.9998227773932844, 0.9999459405116425, 0.999952939146266, 0.9993904856765319, 0.9999686202461942, 0.9998859256291253, 0.9999670351750382, 0.9998508149207432, 0.9995206775081088, 0.9998909239870704, 0.9992766605867051, 0.9997169422268459, 0.9999342765911793, 0.9999132077266785, 0.9996747506710235, 0.9999574458703318, 0.9997433722676531, 0.9997085878273442, 0.9986283591426488, 1.0000499683044446, 0.9996822976634255, 0.9998760069737173, 0.9999506298685366, 0.9991494588684766, 0.9998877546360508, 0.9985973120822286, 0.9993123370261071, 0.9994334967755504, 0.9998546300413254, 1.0000312242151495, 0.9994384421435478, 1.0002736313544685, 0.556268862943093, 0.005541906480130441, 0.43850335024032117, 0.676063925250265, 0.32102526693624794, 0.003057383494630933, 0.5783605172404033, 0.004031947835138365, 0.4179785922426772, 0.9997825353230606, 0.9996637810590631, 0.999757362407101, 0.9998129605879873, 0.9997809300283809, 0.9997115102877211, 0.9998495769717177, 0.014330550973702876, 0.9855009669607978, 0.0011023500749002212, 0.0018902626778472536, 0.12286707406007148, 0.876136751182202], \"Term\": [\"account\", \"action\", \"alves\", \"ask\", \"automatically\", \"automoderator\", \"b\", \"back\", \"best\", \"bot\", \"bot\", \"bot\", \"c\", \"com\", \"comments\", \"compose\", \"compose\", \"compose\", \"concerns\", \"contact\", \"could\", \"creator\", \"e\", \"erody\", \"even\", \"f\", \"faq\", \"feedback\", \"first\", \"football\", \"fuck\", \"fucking\", \"game\", \"get\", \"go\", \"goal\", \"goal\", \"goal\", \"going\", \"good\", \"great\", \"holy\", \"http\", \"https\", \"imgur\", \"jesus\", \"jpg\", \"k\", \"karma\", \"last\", \"league\", \"least\", \"least\", \"least\", \"leave\", \"leave\", \"leave\", \"legend\", \"like\", \"like\", \"like\", \"lmao\", \"media\", \"message\", \"message\", \"message\", \"mirror\", \"moderators\", \"month\", \"much\", \"must\", \"n\", \"next\", \"old\", \"old\", \"old\", \"one\", \"one\", \"one\", \"performed\", \"play\", \"player\", \"players\", \"please\", \"pm\", \"possible\", \"post\", \"question\", \"questions\", \"r\", \"read\", \"really\", \"reddit\", \"removed\", \"season\", \"see\", \"shit\", \"soccer\", \"still\", \"streamable\", \"subject\", \"subreddit\", \"suggestions\", \"team\", \"think\", \"thread\", \"time\", \"twitter\", \"twittertostreamable\", \"u\", \"united\", \"use\", \"v\", \"van\", \"vs\", \"vs\", \"vs\", \"want\", \"want\", \"want\", \"watch\", \"watch\", \"watch\", \"well\", \"wiki\", \"win\", \"would\", \"www\", \"year\", \"yellow\", \"yes\", \"yes\", \"yes\", \"youtube\", \"youtube\", \"youtube\"]}, \"R\": 30, \"lambda.step\": 0.01, \"plot.opts\": {\"xlab\": \"PC1\", \"ylab\": \"PC2\"}, \"topic.order\": [2, 1, 3]};\n",
       "\n",
       "function LDAvis_load_lib(url, callback){\n",
       "  var s = document.createElement('script');\n",
       "  s.src = url;\n",
       "  s.async = true;\n",
       "  s.onreadystatechange = s.onload = callback;\n",
       "  s.onerror = function(){console.warn(\"failed to load library \" + url);};\n",
       "  document.getElementsByTagName(\"head\")[0].appendChild(s);\n",
       "}\n",
       "\n",
       "if(typeof(LDAvis) !== \"undefined\"){\n",
       "   // already loaded: just create the visualization\n",
       "   !function(LDAvis){\n",
       "       new LDAvis(\"#\" + \"ldavis_el897219715645306885948201994\", ldavis_el897219715645306885948201994_data);\n",
       "   }(LDAvis);\n",
       "}else if(typeof define === \"function\" && define.amd){\n",
       "   // require.js is available: use it to load d3/LDAvis\n",
       "   require.config({paths: {d3: \"https://cdnjs.cloudflare.com/ajax/libs/d3/3.5.5/d3.min\"}});\n",
       "   require([\"d3\"], function(d3){\n",
       "      window.d3 = d3;\n",
       "      LDAvis_load_lib(\"https://cdn.rawgit.com/bmabey/pyLDAvis/files/ldavis.v1.0.0.js\", function(){\n",
       "        new LDAvis(\"#\" + \"ldavis_el897219715645306885948201994\", ldavis_el897219715645306885948201994_data);\n",
       "      });\n",
       "    });\n",
       "}else{\n",
       "    // require.js not available: dynamically load d3 & LDAvis\n",
       "    LDAvis_load_lib(\"https://cdnjs.cloudflare.com/ajax/libs/d3/3.5.5/d3.min.js\", function(){\n",
       "         LDAvis_load_lib(\"https://cdn.rawgit.com/bmabey/pyLDAvis/files/ldavis.v1.0.0.js\", function(){\n",
       "                 new LDAvis(\"#\" + \"ldavis_el897219715645306885948201994\", ldavis_el897219715645306885948201994_data);\n",
       "            })\n",
       "         });\n",
       "}\n",
       "</script>"
      ],
      "text/plain": [
       "<IPython.core.display.HTML object>"
      ]
     },
     "metadata": {},
     "output_type": "display_data"
    }
   ],
   "source": [
    "from IPython.core.display import display, HTML\n",
    "display(HTML('vis.html'))"
   ]
  },
  {
   "cell_type": "markdown",
   "metadata": {},
   "source": [
    "I want to make sure that I extract the correct number of words from each topic.  The show_topics() attribute includes contributions to topic probability and I want to enusre a significant amount of the topic probabiliy is represented by the words I extract.\n",
    "\n",
    "Based on the graphs below, around 350 words should be able to capture all of the important words.\n",
    "\n",
    "The first step is extraciting the full set of topic contributions. "
   ]
  },
  {
   "cell_type": "code",
   "execution_count": null,
   "metadata": {
    "collapsed": true
   },
   "outputs": [],
   "source": [
    "del_par_subr_df= pd.read_pickle('C:\\\\users\\\\Augustine\\\\documents\\\\reddit\\\\subr_soccer_201705.pkl')"
   ]
  },
  {
   "cell_type": "code",
   "execution_count": null,
   "metadata": {
    "collapsed": true
   },
   "outputs": [],
   "source": [
    "full_topics= ldamodel.show_topics(num_topics=3,num_words=len(dictionary),log=False,formatted=True)\n",
    "\n",
    "topic1_full_list=parse_numbers(full_topics[0][1]).split(',')[:-1]\n",
    "topic2_full_list=parse_numbers(full_topics[1][1]).split(',')[:-1]\n",
    "topic3_full_list=parse_numbers(full_topics[2][1]).split(',')[:-1]\n",
    "\n",
    "topic1_full_list= [float(i) for i in topic1_full_list]\n",
    "topic2_full_list= [float(i) for i in topic2_full_list]\n",
    "topic3_full_list= [float(i) for i in topic3_full_list]"
   ]
  },
  {
   "cell_type": "code",
   "execution_count": null,
   "metadata": {
    "collapsed": true
   },
   "outputs": [],
   "source": [
    "from sklearn.feature_extraction.text import CountVectorizer\n",
    "import numpy as np\n",
    "\n",
    "import matplotlib.pyplot as plt\n",
    "sort_doc=np.sort(topic1_full_list)[::-1]\n",
    "\n",
    "cum_doc=np.cumsum(sort_doc)\n",
    "count=len(cum_doc)\n",
    "list_count= range(count)\n",
    "#doc_range=np.array(range(doc_freq))\n",
    "\n",
    "plt.plot(list_count,cum_doc, c='blue')\n",
    "plt.xticks(np.arange(0,350,50))\n",
    "plt.xlabel('terms in topic')\n",
    "plt.ylabel('cumulative probability contribution')\n",
    "plt.xlim(0,350)\n",
    "plt.title('cumulative probability by terms in Topic 1')\n"
   ]
  },
  {
   "cell_type": "raw",
   "metadata": {},
   "source": []
  },
  {
   "cell_type": "markdown",
   "metadata": {
    "collapsed": true
   },
   "source": [
    "Next are the topics and probabilities of each word in the topic. The show_topics() method in the GenSim library returns terms and probability for each topic. To print out all words in each topic, you could specify num_words= len(dictionary).\n"
   ]
  },
  {
   "cell_type": "code",
   "execution_count": null,
   "metadata": {
    "collapsed": true
   },
   "outputs": [],
   "source": [
    "topic_eqs=ldamodel.show_topics(num_topics=3,num_words=100,log=False,formatted=True)"
   ]
  },
  {
   "cell_type": "markdown",
   "metadata": {},
   "source": [
    "I defined two funcions to parse the output from show_topics.  This will allow me to convert the output to a list of either words or the topic contributions."
   ]
  },
  {
   "cell_type": "code",
   "execution_count": null,
   "metadata": {
    "collapsed": true
   },
   "outputs": [],
   "source": [
    "def parse_words(doc):\n",
    "    strip_numbers= re.sub(\"\\\\d+\",\"\",doc)\n",
    "    strip_pattern1= re.sub(\"(\\\\s\\\\+\\\\s)(\\\\.\\\\*)\",\",\",strip_numbers)\n",
    "    strip_pattern2= strip_pattern1.replace('\"','')\n",
    "    words=re.sub(\"^(\\\\.\\\\*)\",\"\",strip_pattern2)\n",
    "    return words"
   ]
  },
  {
   "cell_type": "code",
   "execution_count": null,
   "metadata": {
    "collapsed": true
   },
   "outputs": [],
   "source": [
    "def parse_numbers(doc):\n",
    "    strip_chars= re.sub(\"[a-zA-Z]\",\"\",doc)\n",
    "    strip_pattern1= re.sub(\"(\\\\s\\\\+\\\\s)\",\"\",strip_chars)\n",
    "    strip_pattern2= re.sub(\"(\\\\*)\",\"\",strip_pattern1)\n",
    "    strip_pattern3=strip_pattern2.replace(\"'\",'')\n",
    "    numbers= strip_pattern3.replace('\"\"',',')\n",
    "    return numbers"
   ]
  },
  {
   "cell_type": "code",
   "execution_count": null,
   "metadata": {
    "collapsed": true
   },
   "outputs": [],
   "source": [
    "words1=parse_words(topic_eqs[0][1]).split(',')\n",
    "probs1=parse_numbers(topic_eqs[0][1]).split(',')[:-1]\n",
    "\n",
    "words2=parse_words(topic_eqs[1][1]).split(',')\n",
    "probs2=parse_numbers(topic_eqs[1][1]).split(',')[:-1]\n",
    "\n",
    "words3=parse_words(topic_eqs[2][1]).split(',')\n",
    "probs3=parse_numbers(topic_eqs[2][1]).split(',')[:-1]"
   ]
  },
  {
   "cell_type": "markdown",
   "metadata": {},
   "source": [
    "After parsing the strings I have lists of an 'object' datatype so I need to convert the probability lists into floats."
   ]
  },
  {
   "cell_type": "code",
   "execution_count": null,
   "metadata": {
    "collapsed": true
   },
   "outputs": [],
   "source": [
    "probs1= [float(i) for i in probs1]\n",
    "probs2= [float(i) for i in probs2]\n",
    "probs3= [float(i) for i in probs3]"
   ]
  },
  {
   "cell_type": "code",
   "execution_count": null,
   "metadata": {
    "collapsed": true
   },
   "outputs": [],
   "source": []
  },
  {
   "cell_type": "code",
   "execution_count": null,
   "metadata": {
    "collapsed": true
   },
   "outputs": [],
   "source": [
    "words_all=[]\n",
    "words_all.extend(words1)\n",
    "words_all.extend(words2)\n",
    "words_all.extend(words3)"
   ]
  },
  {
   "cell_type": "code",
   "execution_count": null,
   "metadata": {
    "collapsed": true
   },
   "outputs": [],
   "source": []
  },
  {
   "cell_type": "code",
   "execution_count": null,
   "metadata": {
    "collapsed": true
   },
   "outputs": [],
   "source": []
  },
  {
   "cell_type": "code",
   "execution_count": null,
   "metadata": {
    "collapsed": true
   },
   "outputs": [],
   "source": []
  },
  {
   "cell_type": "markdown",
   "metadata": {},
   "source": [
    "I want to create new lists for the most likely topics for each document.  First I'll use get_document_topics method from the GenSim library.\n",
    "This method returns a list.  Then, to find what topic each document belongs to, I'll iterate through the list and select the largest probability and its topic id (0-2 since there are 3 topics).\n",
    "\n",
    "Then I loop through the output to identify the topic of each document.  The correct topic will have the highest probability. "
   ]
  },
  {
   "cell_type": "code",
   "execution_count": null,
   "metadata": {
    "collapsed": true
   },
   "outputs": [],
   "source": [
    "full_doc_topics = ldamodel.get_document_topics(doc_term_matrix, per_word_topics=True)\n",
    "\n",
    "max_array=[]\n",
    "maxTopic= 0\n",
    "max_probs= []\n",
    "topic_ids=[]\n",
    "\n",
    "for doc_topics, word_topics, phi_values in full_doc_topics:\n",
    "    maxProb= 0\n",
    "    for sub_array in doc_topics:\n",
    "        if sub_array[1]>maxProb:\n",
    "            maxProb= sub_array[1]\n",
    "            maxTopic= sub_array[0]\n",
    "            \n",
    "    max_probs.append(maxProb)\n",
    "    topic_ids.append(maxTopic)\n"
   ]
  },
  {
   "cell_type": "markdown",
   "metadata": {},
   "source": [
    "The next step is combining the two steps above.  I need to attach the correct term feature weights to the each document based on the documents topic."
   ]
  },
  {
   "cell_type": "code",
   "execution_count": null,
   "metadata": {
    "collapsed": true
   },
   "outputs": [],
   "source": [
    "topics_cont=[]\n",
    "counter=0\n",
    "\n",
    "for i in topic_ids:\n",
    "    temp=[]\n",
    "    if i==0:\n",
    "        temp.extend([i])\n",
    "        temp.extend(topic1_wts)\n",
    "    if i==1:\n",
    "        temp.extend([i])\n",
    "        temp.extend(topic2_wts)\n",
    "    if i==2:\n",
    "        temp.extend([i])\n",
    "        temp.extend(topic3_wts)\n",
    "    topics_cont.append(temp)\n",
    "    counter+1"
   ]
  },
  {
   "cell_type": "code",
   "execution_count": null,
   "metadata": {
    "collapsed": true
   },
   "outputs": [],
   "source": []
  },
  {
   "cell_type": "code",
   "execution_count": null,
   "metadata": {
    "collapsed": true
   },
   "outputs": [],
   "source": [
    "from sklearn.model_selection import train_test_split\n",
    "from sklearn.naive_bayes import MultinomialNB\n",
    "clf=MultinomialNB()\n",
    "clf.fit(x_train,y_train)\n",
    "training_accuracy = clf.score(x_train, y_train)\n",
    "#test_accuracy = clf.score(Xtest, ytest)\n",
    "print(training_accuracy)\n",
    "#print(test_accuracy)"
   ]
  },
  {
   "cell_type": "code",
   "execution_count": null,
   "metadata": {
    "collapsed": true
   },
   "outputs": [],
   "source": [
    "from sklearn.model_selection import train_test_split\n",
    "from sklearn.linear_model import LogisticRegression\n",
    "from sklearn.metrics import accuracy_score\n",
    "\n",
    "\n",
    "clf = LogisticRegression()\n",
    "# Fit the model on the trainng data.\n",
    "clf.fit(x_train, y_train)\n",
    "# Print the accuracy from the testing data.\n",
    "#print(accuracy_score(clf.predict(x_test), y_test))\n",
    "print(accuracy_score(clf.predict(x_train), y_train))"
   ]
  }
 ],
 "metadata": {
  "kernelspec": {
   "display_name": "Python 3",
   "language": "python",
   "name": "python3"
  },
  "language_info": {
   "codemirror_mode": {
    "name": "ipython",
    "version": 3
   },
   "file_extension": ".py",
   "mimetype": "text/x-python",
   "name": "python",
   "nbconvert_exporter": "python",
   "pygments_lexer": "ipython3",
   "version": "3.6.0"
  }
 },
 "nbformat": 4,
 "nbformat_minor": 2
}
